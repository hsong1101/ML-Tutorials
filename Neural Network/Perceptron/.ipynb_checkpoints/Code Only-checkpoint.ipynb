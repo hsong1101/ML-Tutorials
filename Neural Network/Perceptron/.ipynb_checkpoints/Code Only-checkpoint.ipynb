{
 "cells": [
  {
   "cell_type": "markdown",
   "metadata": {},
   "source": [
    "## Binary Classifier"
   ]
  },
  {
   "cell_type": "markdown",
   "metadata": {},
   "source": [
    "### Should note that boundaries in graphs can be off since it is approximate"
   ]
  },
  {
   "cell_type": "code",
   "execution_count": 1,
   "metadata": {
    "ExecuteTime": {
     "end_time": "2018-12-18T00:19:50.964613Z",
     "start_time": "2018-12-18T00:19:50.445882Z"
    }
   },
   "outputs": [],
   "source": [
    "import numpy as np\n",
    "import matplotlib.pyplot as plt"
   ]
  },
  {
   "cell_type": "code",
   "execution_count": 19,
   "metadata": {
    "ExecuteTime": {
     "end_time": "2018-12-18T00:21:22.780441Z",
     "start_time": "2018-12-18T00:21:22.765347Z"
    }
   },
   "outputs": [],
   "source": [
    "class Perceptron():\n",
    "    \n",
    "    def __init__(self, num_class=2, dim=2, max_iter=1000):\n",
    "        \n",
    "        # Check for appropriate classes and dimension\n",
    "        assert num_class >= 2, \"number of classes should be 2 or more\"\n",
    "        assert dim >= 1, \"dimension should be 1 or more\"\n",
    "        \n",
    "        self.num_class = num_class\n",
    "        self.dim = dim\n",
    "        self.max_iter = max_iter\n",
    "        self._init_weights()\n",
    "        \n",
    "    def _init_weights(self):\n",
    "        \n",
    "        # if classes >= 3, each class has its own weights vector\n",
    "        self.weights = np.zeros((1, self.dim))[0]\n",
    "            \n",
    "    def fit(self, x, y):\n",
    "        \n",
    "        assert x.shape[1] == self.dim, \"number of features does not match {} != {}\".format(x.shape[1], self.dim)\n",
    "        assert len(x) == len(y), \"x and y should have same length\"\n",
    "        \n",
    "        for i in range(self.max_iter):\n",
    "            \n",
    "            for x1, y1 in zip(x, y):\n",
    "                changed = self._train(x1, y1)\n",
    "\n",
    "            if not changed:\n",
    "                print('Finished training at iteration {}'.format(i+1))\n",
    "                return\n",
    "\n",
    "    def _train(self, x, y):\n",
    "        \n",
    "        # Binary classifier\n",
    "        pred = 1 if np.dot(self.weights, x) >= 0 else -1\n",
    "\n",
    "        if pred != y:\n",
    "            self.weights += x*y\n",
    "            return True\n",
    "\n",
    "        return False\n",
    "            \n",
    "    def predict(self, x):\n",
    "        \n",
    "        if type(x) == list:\n",
    "            x = np.array([x])\n",
    "\n",
    "        assert x.shape[1] == self.dim, \"number of features does not match {} != {}\".format(x.shape[1], self.dim)\n",
    "        \n",
    "        pred = np.array([])\n",
    "\n",
    "        for x1 in x:\n",
    "            res = np.dot(self.weights, x1)\n",
    "            pred = np.append(pred, 1 if res >= 0 else -1)\n",
    "                \n",
    "        return pred\n",
    "    \n",
    "    # Can ignore this part\n",
    "    def __repr__(self):\n",
    "        frmt = \"Number of Labels : {}\\n\".format(self.num_class)\n",
    "        frmt += \"Feature Dimension : {}\\n\".format(self.dim)\n",
    "        frmt += \"Weight : {}\".format(self.weights)\n",
    "        \n",
    "        return frmt\n"
   ]
  },
  {
   "cell_type": "code",
   "execution_count": 20,
   "metadata": {
    "ExecuteTime": {
     "end_time": "2018-12-18T00:21:23.802662Z",
     "start_time": "2018-12-18T00:21:23.794889Z"
    }
   },
   "outputs": [
    {
     "data": {
      "text/plain": [
       "Number of Labels : 2\n",
       "Feature Dimension : 2\n",
       "Weight : [0. 0.]"
      ]
     },
     "execution_count": 20,
     "metadata": {},
     "output_type": "execute_result"
    }
   ],
   "source": [
    "p = Perceptron()\n",
    "p"
   ]
  },
  {
   "cell_type": "code",
   "execution_count": 21,
   "metadata": {
    "ExecuteTime": {
     "end_time": "2018-12-18T00:21:24.953685Z",
     "start_time": "2018-12-18T00:21:24.944642Z"
    }
   },
   "outputs": [],
   "source": [
    "pos = [np.random.normal(1.5, 0.5, 30), np.random.normal(1.5, 0.5, 30)]\n",
    "neg = [np.random.normal(-1.5, 0.5, 30), np.random.normal(-1.5, 0.5, 30)]\n",
    "\n",
    "neg_y = np.array([-1]*30)\n",
    "pos_y = np.ones(30)"
   ]
  },
  {
   "cell_type": "markdown",
   "metadata": {},
   "source": [
    "![](tttt.png)"
   ]
  },
  {
   "cell_type": "code",
   "execution_count": 22,
   "metadata": {
    "ExecuteTime": {
     "end_time": "2018-12-18T00:21:26.221275Z",
     "start_time": "2018-12-18T00:21:26.214247Z"
    }
   },
   "outputs": [
    {
     "name": "stdout",
     "output_type": "stream",
     "text": [
      "Finished training at iteration 1\n"
     ]
    }
   ],
   "source": [
    "X = np.append(pos, neg, axis=1).transpose()\n",
    "y = np.append(pos_y, neg_y)\n",
    "\n",
    "p.fit(X, y)"
   ]
  },
  {
   "cell_type": "code",
   "execution_count": 23,
   "metadata": {
    "ExecuteTime": {
     "end_time": "2018-12-18T00:21:26.792348Z",
     "start_time": "2018-12-18T00:21:26.783344Z"
    }
   },
   "outputs": [],
   "source": [
    "s = -p.weights[1] / p.weights[0]\n",
    "b_x = np.linspace(-5, 5, 100)\n",
    "b_y = b_x * s"
   ]
  },
  {
   "cell_type": "code",
   "execution_count": 24,
   "metadata": {
    "ExecuteTime": {
     "end_time": "2018-12-18T00:21:28.191724Z",
     "start_time": "2018-12-18T00:21:27.761608Z"
    },
    "scrolled": true
   },
   "outputs": [
    {
     "data": {
      "image/png": "[encoded data removed]",
      "text/plain": [
       "<Figure size 576x432 with 1 Axes>"
      ]
     },
     "metadata": {
      "needs_background": "light"
     },
     "output_type": "display_data"
    }
   ],
   "source": [
    "plt.figure(figsize=(8,6))\n",
    "\n",
    "plt.plot(b_x, b_y, label=\"Boundary\", linestyle='--', c='g')\n",
    "plt.scatter(pos[0], pos[1], c='r', label='1')\n",
    "plt.scatter(neg[0], neg[1], c='b', label='-1')\n",
    "plt.hlines(0, xmin=-5, xmax=5, linestyles='--')\n",
    "plt.vlines(0, ymin=-5, ymax=5, linestyles='--')\n",
    "plt.xlim(-4, 4)\n",
    "plt.ylim(-4, 4)\n",
    "plt.legend();"
   ]
  },
  {
   "cell_type": "code",
   "execution_count": 25,
   "metadata": {
    "ExecuteTime": {
     "end_time": "2018-12-18T00:21:39.784302Z",
     "start_time": "2018-12-18T00:21:39.752174Z"
    },
    "code_folding": []
   },
   "outputs": [],
   "source": [
    "class Perceptron():\n",
    "    \n",
    "    def __init__(self, num_class=2, dim=2, max_iter=1000, lr=1.0):\n",
    "        \n",
    "        # Check for appropriate classes and dimension\n",
    "        assert num_class >= 2, \"number of classes should be 2 or more\"\n",
    "        assert dim >= 1, \"dimension should be 1 or more\"\n",
    "        assert type(lr) == float or type(lr) == int, \"learning rate should be numeric value\"\n",
    "        assert lr > 0, \"learning rate should be positive\"\n",
    "        \n",
    "        self.num_class = num_class\n",
    "        self.dim = dim\n",
    "        self.max_iter = max_iter\n",
    "        self.lr = lr\n",
    "        self._init_weights()\n",
    "        \n",
    "    def _init_weights(self):\n",
    "\n",
    "        # if classes >= 3, each class has its own weights vector\n",
    "        if self.num_class == 2:\n",
    "            self.weights = np.zeros((1, self.dim+1))[0]\n",
    "        else:\n",
    "            self.weights = np.zeros((self.num_class, self.dim+1))\n",
    "            \n",
    "    def fit(self, x, y):\n",
    "        \n",
    "        assert x.shape[1] == self.dim, \"number of features does not match {} != {}\".format(x.shape[1], self.dim)\n",
    "        assert len(x) == len(y), \"x and y should have same length\"\n",
    "        \n",
    "        x = np.append(x, np.ones((len(x), 1)), axis=1)\n",
    "\n",
    "        for i in range(self.max_iter):\n",
    "            \n",
    "            changed = self._train(x, y)\n",
    "        \n",
    "            if not changed:\n",
    "                print('Finished training at iteration {}'.format(i+1))\n",
    "                return\n",
    "\n",
    "    def _train(self, x, y):\n",
    "\n",
    "        if self.num_class == 2:\n",
    "            # Binary classifier\n",
    "            \n",
    "            changed = False\n",
    "            prev = self.weights\n",
    "            \n",
    "            for x1, y1 in zip(x, y):\n",
    "                pred = 1 if np.dot(self.weights, x1) >= 0 else -1\n",
    "\n",
    "                if pred != y1:\n",
    "                    self.weights += self.lr*x1*y1\n",
    "                    changed = True\n",
    "            \n",
    "            return changed\n",
    "        \n",
    "        else:\n",
    "            # multi-class classifier\n",
    "            changed = False\n",
    "            for x1, y1 in zip(x, y):\n",
    "                pred = np.argmax(np.dot(self.weights, x1))\n",
    "                if pred != y1:\n",
    "                    self.weights[int(y1)] += self.lr*x1\n",
    "                    self.weights[pred] -= self.lr*x1\n",
    "\n",
    "                    changed = True\n",
    "                else:\n",
    "                    changed = False\n",
    "            return changed\n",
    "            \n",
    "    def predict(self, x):\n",
    "        \n",
    "        if type(x) == list:\n",
    "            x = np.array([x])\n",
    "            \n",
    "        assert x.shape[1] == self.dim, \"number of features does not match {} != {}\".format(x.shape[1], self.dim)\n",
    "        \n",
    "        x = np.append(x, np.ones((len(x), 1)), axis=1)\n",
    "        \n",
    "        pred = np.array([])\n",
    "        \n",
    "        for x1 in x:\n",
    "            res = np.dot(self.weights, x1)\n",
    "            if self.num_class == 2:\n",
    "                pred = np.append(pred, 1 if res >= 0 else -1)\n",
    "            else:\n",
    "                pred = np.append(pred, np.argmax(res))\n",
    "                \n",
    "        return pred\n",
    "    \n",
    "    # Can ignore this part\n",
    "    def __repr__(self):\n",
    "        frmt = \"Number of Labels : {}\\n\".format(self.num_class)\n",
    "        frmt += \"Feature Dimension : {}\\n\".format(self.dim)\n",
    "        frmt += \"Learning Rate : {}\\n\".format(self.lr)\n",
    "        frmt += \"Weight : {}\".format(self.weights)\n",
    "        \n",
    "        return frmt"
   ]
  },
  {
   "cell_type": "code",
   "execution_count": 31,
   "metadata": {
    "ExecuteTime": {
     "end_time": "2018-12-18T00:22:41.374657Z",
     "start_time": "2018-12-18T00:22:41.011539Z"
    },
    "scrolled": true
   },
   "outputs": [
    {
     "data": {
      "image/png": "[encoded data removed]",
      "text/plain": [
       "<Figure size 576x432 with 1 Axes>"
      ]
     },
     "metadata": {
      "needs_background": "light"
     },
     "output_type": "display_data"
    }
   ],
   "source": [
    "size = 20\n",
    "\n",
    "pos = [np.random.normal(1.2, 0.5, size), np.random.normal(4, 0.5, size)]\n",
    "neg = [np.random.normal(-1, 0.5, size), np.random.normal(2, 0.5, size)]\n",
    "\n",
    "neg_y = -np.ones(size)\n",
    "pos_y = np.ones(size)\n",
    "\n",
    "X = np.append(pos, neg, axis=1).transpose()\n",
    "y = np.append(pos_y, neg_y)\n",
    "\n",
    "plt.figure(figsize=(8,6))\n",
    "plt.scatter(pos[0], pos[1], c='r', label='1')\n",
    "plt.scatter(neg[0], neg[1], c='b', label='-1')\n",
    "plt.hlines(0, xmin=-5, xmax=5, linestyles='--')\n",
    "plt.vlines(0, ymin=-2, ymax=8, linestyles='--')\n",
    "\n",
    "plt.xlim(-4, 4)\n",
    "plt.ylim(-2, 8)\n",
    "plt.legend();"
   ]
  },
  {
   "cell_type": "code",
   "execution_count": 32,
   "metadata": {
    "ExecuteTime": {
     "end_time": "2018-12-18T00:22:42.379894Z",
     "start_time": "2018-12-18T00:22:42.371538Z"
    },
    "scrolled": true
   },
   "outputs": [
    {
     "name": "stdout",
     "output_type": "stream",
     "text": [
      "Finished training at iteration 1\n"
     ]
    }
   ],
   "source": [
    "p.fit(X, y)"
   ]
  },
  {
   "cell_type": "code",
   "execution_count": 33,
   "metadata": {
    "ExecuteTime": {
     "end_time": "2018-12-18T00:22:43.814432Z",
     "start_time": "2018-12-18T00:22:43.799673Z"
    }
   },
   "outputs": [
    {
     "data": {
      "text/plain": [
       "True"
      ]
     },
     "execution_count": 33,
     "metadata": {},
     "output_type": "execute_result"
    }
   ],
   "source": [
    "pred = p.predict(X)\n",
    "np.all(pred == y)"
   ]
  },
  {
   "cell_type": "markdown",
   "metadata": {},
   "source": [
    "## Multi-class Classifier "
   ]
  },
  {
   "cell_type": "code",
   "execution_count": 34,
   "metadata": {
    "ExecuteTime": {
     "end_time": "2018-12-18T00:22:57.796757Z",
     "start_time": "2018-12-18T00:22:57.721506Z"
    }
   },
   "outputs": [],
   "source": [
    "class Perceptron():\n",
    "    \n",
    "    def __init__(self, num_class=2, dim=2, max_iter=1000, lr=1.0):\n",
    "        \n",
    "        # Check for appropriate classes and dimension\n",
    "        assert num_class >= 2, \"number of classes should be 2 or more\"\n",
    "        assert dim >= 1, \"dimension should be 1 or more\"\n",
    "        assert type(lr) == float or type(lr) == int, \"learning rate should be numeric value\"\n",
    "        assert lr > 0, \"learning rate should be positive\"\n",
    "        \n",
    "        self.num_class = num_class\n",
    "        self.dim = dim\n",
    "        self.max_iter = max_iter\n",
    "        self.lr = lr\n",
    "        self._init_weights()\n",
    "        \n",
    "    def _init_weights(self):\n",
    "\n",
    "        # if classes >= 3, each class has its own weights vector\n",
    "        if self.num_class == 2:\n",
    "            self.weights = np.zeros((1, self.dim+1))[0]\n",
    "        else:\n",
    "            self.weights = np.zeros((self.num_class, self.dim+1))\n",
    "            \n",
    "    def fit(self, x, y):\n",
    "        \n",
    "        assert x.shape[1] == self.dim, \"number of features does not match {} != {}\".format(x.shape[0], self.dim)\n",
    "        assert x.shape[0] == len(y), \"x and y should have same length\"\n",
    "        \n",
    "        x = np.append(x, np.ones((len(x), 1)), axis=1)\n",
    "\n",
    "        for i in range(self.max_iter):\n",
    "            \n",
    "            changed = self._train(x, y)\n",
    "\n",
    "            if not changed:\n",
    "                print('Finished training at iteration {}'.format(i+1))\n",
    "                return\n",
    "\n",
    "    def _train(self, x, y):\n",
    "        \n",
    "        changed = False\n",
    "        \n",
    "        for x1, y1 in zip(x, y):\n",
    "            \n",
    "            if self.num_class == 2:\n",
    "                \n",
    "                pred = 1 if np.dot(self.weights, x1) >= 0 else -1\n",
    "                \n",
    "                if pred != y1:\n",
    "                    self.weights += self.lr*x1*y1\n",
    "                    changed = True\n",
    "                    \n",
    "            else:\n",
    "                \n",
    "                pred = np.argmax(np.dot(self.weights, x1))\n",
    "                \n",
    "                if pred != y1:\n",
    "                    self.weights[int(y1)] += self.lr*x1\n",
    "                    self.weights[pred] -= self.lr*x1\n",
    "                    \n",
    "                    changed =  True\n",
    "                    \n",
    "        return changed\n",
    "            \n",
    "    def predict(self, x):\n",
    "        \n",
    "        if type(x) == list:\n",
    "            x = np.array([x])\n",
    "            \n",
    "            \n",
    "        assert x.shape[1] == self.dim, \"number of features does not match {} != {}\".format(x.shape[1], self.dim)\n",
    "        \n",
    "        x = np.append(x, np.ones((len(x), 1)), axis=1)\n",
    "        \n",
    "        pred = np.array([])\n",
    "        \n",
    "        for x1 in x:\n",
    "            res = np.dot(self.weights, x1)\n",
    "            if self.num_class == 2:\n",
    "                pred = np.append(pred, 1 if res >= 0 else -1)\n",
    "            else:\n",
    "                pred = np.append(pred, np.argmax(res))\n",
    "                \n",
    "        return pred\n",
    "    \n",
    "    # Can ignore this part\n",
    "    def __repr__(self):\n",
    "        frmt = \"Number of Labels : {}\\n\".format(self.num_class)\n",
    "        frmt += \"Feature Dimension : {}\\n\".format(self.dim)\n",
    "        frmt += \"Learning Rate : {}\\n\".format(self.lr)\n",
    "        frmt += \"Weight : {}\".format(self.weights)\n",
    "        \n",
    "        return frmt"
   ]
  },
  {
   "cell_type": "code",
   "execution_count": 35,
   "metadata": {
    "ExecuteTime": {
     "end_time": "2018-12-18T00:23:00.770765Z",
     "start_time": "2018-12-18T00:23:00.763191Z"
    }
   },
   "outputs": [],
   "source": [
    "class1 = [np.random.normal(0, 0.5, size), np.random.normal(8, 0.5, size)]\n",
    "class2 = [np.random.normal(-2, 0.5, size), np.random.normal(4, 0.5, size)]\n",
    "class3 = [np.random.normal(2, 0.5, size), np.random.normal(4, 0.5, size)]\n",
    "\n",
    "y1 = np.zeros((size, 1))\n",
    "y2 = np.ones((size, 1))\n",
    "y3 = np.ones((size, 1)) * 2"
   ]
  },
  {
   "cell_type": "code",
   "execution_count": 36,
   "metadata": {
    "ExecuteTime": {
     "end_time": "2018-12-18T00:23:02.037084Z",
     "start_time": "2018-12-18T00:23:01.686413Z"
    }
   },
   "outputs": [
    {
     "data": {
      "image/png": "[encoded data removed]",
      "text/plain": [
       "<Figure size 576x432 with 1 Axes>"
      ]
     },
     "metadata": {
      "needs_background": "light"
     },
     "output_type": "display_data"
    }
   ],
   "source": [
    "plt.figure(figsize=(8,6))\n",
    "\n",
    "plt.scatter(class1[0], class1[1], label='class 0', c='g')\n",
    "plt.scatter(class2[0], class2[1], label='class 1', c='b')\n",
    "plt.scatter(class3[0], class3[1], label='class 2', c='r')\n",
    "\n",
    "plt.xlim(-5, 5)\n",
    "plt.ylim(0, 11)\n",
    "\n",
    "plt.legend();"
   ]
  },
  {
   "cell_type": "code",
   "execution_count": 37,
   "metadata": {
    "ExecuteTime": {
     "end_time": "2018-12-18T00:23:03.261526Z",
     "start_time": "2018-12-18T00:23:03.253669Z"
    }
   },
   "outputs": [],
   "source": [
    "X = np.append(class1, np.append(class2, class3, axis=1), axis=1).transpose()\n",
    "y = np.append(y1, np.append(y2, y3))"
   ]
  },
  {
   "cell_type": "code",
   "execution_count": 39,
   "metadata": {
    "ExecuteTime": {
     "end_time": "2018-12-18T00:23:11.259457Z",
     "start_time": "2018-12-18T00:23:11.252370Z"
    }
   },
   "outputs": [
    {
     "data": {
      "text/plain": [
       "Number of Labels : 3\n",
       "Feature Dimension : 2\n",
       "Learning Rate : 1.0\n",
       "Weight : [[0. 0. 0.]\n",
       " [0. 0. 0.]\n",
       " [0. 0. 0.]]"
      ]
     },
     "execution_count": 39,
     "metadata": {},
     "output_type": "execute_result"
    }
   ],
   "source": [
    "p = Perceptron(num_class=3)\n",
    "p"
   ]
  },
  {
   "cell_type": "code",
   "execution_count": 40,
   "metadata": {
    "ExecuteTime": {
     "end_time": "2018-12-18T00:23:13.911735Z",
     "start_time": "2018-12-18T00:23:13.891042Z"
    }
   },
   "outputs": [
    {
     "name": "stdout",
     "output_type": "stream",
     "text": [
      "Finished training at iteration 18\n"
     ]
    }
   ],
   "source": [
    "p.fit(X, y)"
   ]
  },
  {
   "cell_type": "code",
   "execution_count": 42,
   "metadata": {
    "ExecuteTime": {
     "end_time": "2018-12-18T00:23:21.669216Z",
     "start_time": "2018-12-18T00:23:21.341933Z"
    },
    "scrolled": false
   },
   "outputs": [
    {
     "data": {
      "image/png": "[encoded data removed]",
      "text/plain": [
       "<Figure size 576x432 with 1 Axes>"
      ]
     },
     "metadata": {
      "needs_background": "light"
     },
     "output_type": "display_data"
    }
   ],
   "source": [
    "b_x = np.linspace(-5, 5, 100)\n",
    "plt.figure(figsize=(8,6))\n",
    "\n",
    "plt.plot(b_x, -b_x*p.weights[0][0]/p.weights[0][1]+4)\n",
    "plt.plot(b_x, -b_x*p.weights[1][0]/p.weights[1][1]-6)\n",
    "\n",
    "plt.scatter(class1[0], class1[1], label='class 0', c='g')\n",
    "plt.scatter(class2[0], class2[1], label='class 1', c='b')\n",
    "plt.scatter(class3[0], class3[1], label='class 2', c='r')\n",
    "\n",
    "plt.xlim(-5, 5)\n",
    "plt.ylim(0, 11)\n",
    "\n",
    "plt.legend();"
   ]
  },
  {
   "cell_type": "code",
   "execution_count": 43,
   "metadata": {
    "ExecuteTime": {
     "end_time": "2018-12-18T00:23:23.973106Z",
     "start_time": "2018-12-18T00:23:23.960975Z"
    }
   },
   "outputs": [
    {
     "data": {
      "text/plain": [
       "array([1., 2., 0.])"
      ]
     },
     "execution_count": 43,
     "metadata": {},
     "output_type": "execute_result"
    }
   ],
   "source": [
    "test = np.array([[-3, 3], [5, 2], [0, 10]])\n",
    "p.predict(test)"
   ]
  },
  {
   "cell_type": "code",
   "execution_count": 44,
   "metadata": {
    "ExecuteTime": {
     "end_time": "2018-12-18T00:23:36.035696Z",
     "start_time": "2018-12-18T00:23:36.024058Z"
    }
   },
   "outputs": [
    {
     "data": {
      "text/plain": [
       "True"
      ]
     },
     "execution_count": 44,
     "metadata": {},
     "output_type": "execute_result"
    }
   ],
   "source": [
    "np.all(p.predict(X) == y)"
   ]
  }
 ],
 "metadata": {
  "kernelspec": {
   "display_name": "Python 3",
   "language": "python",
   "name": "python3"
  },
  "language_info": {
   "codemirror_mode": {
    "name": "ipython",
    "version": 3
   },
   "file_extension": ".py",
   "mimetype": "text/x-python",
   "name": "python",
   "nbconvert_exporter": "python",
   "pygments_lexer": "ipython3",
   "version": "3.6.6"
  }
 },
 "nbformat": 4,
 "nbformat_minor": 2
}
