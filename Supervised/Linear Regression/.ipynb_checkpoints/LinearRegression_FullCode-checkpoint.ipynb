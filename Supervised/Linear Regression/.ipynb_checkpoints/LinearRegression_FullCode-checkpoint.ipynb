{
 "cells": [
  {
   "cell_type": "markdown",
   "metadata": {},
   "source": [
    "# Intro"
   ]
  },
  {
   "cell_type": "markdown",
   "metadata": {},
   "source": [
    "In this post, we will go through what Linear Regression is and how to implement it from the scratch."
   ]
  },
  {
   "cell_type": "markdown",
   "metadata": {},
   "source": [
    "So what is Linear Regression? We use Linear Regression when we want to know a linear relation between a feature and the remaining features of a dataset. This relation can be proportional or disproportional or there can be no correlation at all. With this model, we can predict a value based on its features using linear approximation. Examples where we can use this model are Height vs Weight, Income vs Age, Price of Houses vs Quality, and many more. In most cases, it is impossible to predict a value without errors and this linear model tries to find a relationship with the least errors. This error is also called residuals between predicted values and actual values."
   ]
  },
  {
   "cell_type": "markdown",
   "metadata": {},
   "source": [
    "There are several versions of linear regression such as ordinary least squares (OLS), generalized least sqaures (GLS), weighted least squares (WLS) and so on with or without other forms of regularization but in this post, OLS will be covered."
   ]
  },
  {
   "cell_type": "markdown",
   "metadata": {
    "ExecuteTime": {
     "end_time": "2018-08-20T16:41:10.299134Z",
     "start_time": "2018-08-20T16:41:10.293841Z"
    }
   },
   "source": [
    "# Code"
   ]
  },
  {
   "cell_type": "code",
   "execution_count": 1,
   "metadata": {
    "ExecuteTime": {
     "end_time": "2018-12-24T02:16:35.546182Z",
     "start_time": "2018-12-24T02:16:31.706167Z"
    }
   },
   "outputs": [],
   "source": [
    "import numpy as np\n",
    "import pandas as pd\n",
    "import matplotlib.pyplot as plt"
   ]
  },
  {
   "cell_type": "markdown",
   "metadata": {},
   "source": [
    "Before proceeding further, let's use weight vs height dataset from Kaggle for this exercise. You can find them [here](https://www.kaggle.com/mustafaali96/weight-height)."
   ]
  },
  {
   "cell_type": "markdown",
   "metadata": {},
   "source": [
    "Once you download the data and put it in the same folder you are coding, let's load them and check the first five rows. "
   ]
  },
  {
   "cell_type": "code",
   "execution_count": 2,
   "metadata": {
    "ExecuteTime": {
     "end_time": "2018-12-24T02:16:35.644925Z",
     "start_time": "2018-12-24T02:16:35.550926Z"
    }
   },
   "outputs": [
    {
     "data": {
      "text/html": [
       "<div>\n",
       "<style scoped>\n",
       "    .dataframe tbody tr th:only-of-type {\n",
       "        vertical-align: middle;\n",
       "    }\n",
       "\n",
       "    .dataframe tbody tr th {\n",
       "        vertical-align: top;\n",
       "    }\n",
       "\n",
       "    .dataframe thead th {\n",
       "        text-align: right;\n",
       "    }\n",
       "</style>\n",
       "<table border=\"1\" class=\"dataframe\">\n",
       "  <thead>\n",
       "    <tr style=\"text-align: right;\">\n",
       "      <th></th>\n",
       "      <th>Gender</th>\n",
       "      <th>Height</th>\n",
       "      <th>Weight</th>\n",
       "    </tr>\n",
       "  </thead>\n",
       "  <tbody>\n",
       "    <tr>\n",
       "      <th>0</th>\n",
       "      <td>Male</td>\n",
       "      <td>73.847017</td>\n",
       "      <td>241.893563</td>\n",
       "    </tr>\n",
       "    <tr>\n",
       "      <th>1</th>\n",
       "      <td>Male</td>\n",
       "      <td>68.781904</td>\n",
       "      <td>162.310473</td>\n",
       "    </tr>\n",
       "    <tr>\n",
       "      <th>2</th>\n",
       "      <td>Male</td>\n",
       "      <td>74.110105</td>\n",
       "      <td>212.740856</td>\n",
       "    </tr>\n",
       "    <tr>\n",
       "      <th>3</th>\n",
       "      <td>Male</td>\n",
       "      <td>71.730978</td>\n",
       "      <td>220.042470</td>\n",
       "    </tr>\n",
       "    <tr>\n",
       "      <th>4</th>\n",
       "      <td>Male</td>\n",
       "      <td>69.881796</td>\n",
       "      <td>206.349801</td>\n",
       "    </tr>\n",
       "  </tbody>\n",
       "</table>\n",
       "</div>"
      ],
      "text/plain": [
       "  Gender     Height      Weight\n",
       "0   Male  73.847017  241.893563\n",
       "1   Male  68.781904  162.310473\n",
       "2   Male  74.110105  212.740856\n",
       "3   Male  71.730978  220.042470\n",
       "4   Male  69.881796  206.349801"
      ]
     },
     "execution_count": 2,
     "metadata": {},
     "output_type": "execute_result"
    }
   ],
   "source": [
    "dat = pd.read_csv('./weight-height.csv')\n",
    "\n",
    "dat.head()"
   ]
  },
  {
   "cell_type": "code",
   "execution_count": 3,
   "metadata": {
    "ExecuteTime": {
     "end_time": "2018-12-24T02:16:35.662927Z",
     "start_time": "2018-12-24T02:16:35.648925Z"
    },
    "scrolled": true
   },
   "outputs": [
    {
     "data": {
      "text/plain": [
       "(10000, 3)"
      ]
     },
     "execution_count": 3,
     "metadata": {},
     "output_type": "execute_result"
    }
   ],
   "source": [
    "dat.shape"
   ]
  },
  {
   "cell_type": "markdown",
   "metadata": {},
   "source": [
    "There are 10000 samples and have $Gender, Height, Weight$ columns. Let's drop the Gender column so that we only have height and weight vectors. "
   ]
  },
  {
   "cell_type": "markdown",
   "metadata": {},
   "source": [
    "You can still use the $Gender$ column and using two separate models and compare the relation of weight and height by gender."
   ]
  },
  {
   "cell_type": "code",
   "execution_count": 4,
   "metadata": {
    "ExecuteTime": {
     "end_time": "2018-12-24T02:16:35.683923Z",
     "start_time": "2018-12-24T02:16:35.668932Z"
    }
   },
   "outputs": [],
   "source": [
    "dat = dat.drop('Gender', axis=1)"
   ]
  },
  {
   "cell_type": "code",
   "execution_count": 5,
   "metadata": {
    "ExecuteTime": {
     "end_time": "2018-12-24T02:16:35.709924Z",
     "start_time": "2018-12-24T02:16:35.690927Z"
    }
   },
   "outputs": [
    {
     "data": {
      "text/html": [
       "<div>\n",
       "<style scoped>\n",
       "    .dataframe tbody tr th:only-of-type {\n",
       "        vertical-align: middle;\n",
       "    }\n",
       "\n",
       "    .dataframe tbody tr th {\n",
       "        vertical-align: top;\n",
       "    }\n",
       "\n",
       "    .dataframe thead th {\n",
       "        text-align: right;\n",
       "    }\n",
       "</style>\n",
       "<table border=\"1\" class=\"dataframe\">\n",
       "  <thead>\n",
       "    <tr style=\"text-align: right;\">\n",
       "      <th></th>\n",
       "      <th>Height</th>\n",
       "      <th>Weight</th>\n",
       "    </tr>\n",
       "  </thead>\n",
       "  <tbody>\n",
       "    <tr>\n",
       "      <th>0</th>\n",
       "      <td>73.847017</td>\n",
       "      <td>241.893563</td>\n",
       "    </tr>\n",
       "    <tr>\n",
       "      <th>1</th>\n",
       "      <td>68.781904</td>\n",
       "      <td>162.310473</td>\n",
       "    </tr>\n",
       "    <tr>\n",
       "      <th>2</th>\n",
       "      <td>74.110105</td>\n",
       "      <td>212.740856</td>\n",
       "    </tr>\n",
       "    <tr>\n",
       "      <th>3</th>\n",
       "      <td>71.730978</td>\n",
       "      <td>220.042470</td>\n",
       "    </tr>\n",
       "    <tr>\n",
       "      <th>4</th>\n",
       "      <td>69.881796</td>\n",
       "      <td>206.349801</td>\n",
       "    </tr>\n",
       "  </tbody>\n",
       "</table>\n",
       "</div>"
      ],
      "text/plain": [
       "      Height      Weight\n",
       "0  73.847017  241.893563\n",
       "1  68.781904  162.310473\n",
       "2  74.110105  212.740856\n",
       "3  71.730978  220.042470\n",
       "4  69.881796  206.349801"
      ]
     },
     "execution_count": 5,
     "metadata": {},
     "output_type": "execute_result"
    }
   ],
   "source": [
    "dat.head()"
   ]
  },
  {
   "cell_type": "markdown",
   "metadata": {},
   "source": [
    "## Constructing a Model"
   ]
  },
  {
   "cell_type": "markdown",
   "metadata": {
    "ExecuteTime": {
     "end_time": "2018-12-20T05:03:05.914715Z",
     "start_time": "2018-12-20T05:03:05.906715Z"
    }
   },
   "source": [
    "There are two versions when constructing a linear regression model.\n",
    "1. One whose line goes through the origin.\n",
    "2. One whose line doesn't go through the origin (model with bias)."
   ]
  },
  {
   "cell_type": "markdown",
   "metadata": {},
   "source": [
    "Let's start with a model that goes through the origin and compare it later to the one that doesn't."
   ]
  },
  {
   "cell_type": "markdown",
   "metadata": {},
   "source": [
    "If we choose the first model, we can build a model in two ways. One is using a closed-form equation and one is using a loop to find an appropriate weight $w$ (slope) of the line with the least errors."
   ]
  },
  {
   "cell_type": "markdown",
   "metadata": {},
   "source": [
    "The equation for the closed form is as follows.\n",
    "$$w = (X^TX)^{-1}X^Ty$$"
   ]
  },
  {
   "cell_type": "markdown",
   "metadata": {},
   "source": [
    "Before we advance, let's first graph them out to visualize."
   ]
  },
  {
   "cell_type": "code",
   "execution_count": 6,
   "metadata": {
    "ExecuteTime": {
     "end_time": "2018-12-24T02:16:36.210923Z",
     "start_time": "2018-12-24T02:16:35.711924Z"
    }
   },
   "outputs": [
    {
     "data": {
      "image/png": "[encoded data removed]",
      "text/plain": [
       "<Figure size 576x432 with 1 Axes>"
      ]
     },
     "metadata": {
      "needs_background": "light"
     },
     "output_type": "display_data"
    }
   ],
   "source": [
    "plt.figure(figsize=(8,6))\n",
    "plt.scatter(dat['Height'], dat['Weight'])\n",
    "plt.xlabel('Height(Inches)', size=15)\n",
    "plt.ylabel('Weight(Pounds)', size=15);"
   ]
  },
  {
   "cell_type": "markdown",
   "metadata": {},
   "source": [
    "We can clearly see that taller people are heavier than short people in general."
   ]
  },
  {
   "cell_type": "markdown",
   "metadata": {},
   "source": [
    "With the equation above, we can get the $w$ by the following. (The @ means matrix multiplication)"
   ]
  },
  {
   "cell_type": "code",
   "execution_count": 7,
   "metadata": {
    "ExecuteTime": {
     "end_time": "2018-12-24T02:16:36.258928Z",
     "start_time": "2018-12-24T02:16:36.213927Z"
    }
   },
   "outputs": [
    {
     "data": {
      "text/plain": [
       "2.4502"
      ]
     },
     "execution_count": 7,
     "metadata": {},
     "output_type": "execute_result"
    }
   ],
   "source": [
    "X = dat['Height']\n",
    "y = dat['Weight']\n",
    "\n",
    "closed_w = 1 / (X.T @ X) * X.T @ y\n",
    "\n",
    "round(closed_w, 4)"
   ]
  },
  {
   "cell_type": "markdown",
   "metadata": {},
   "source": [
    "Now let's plot the points with our simple model."
   ]
  },
  {
   "cell_type": "code",
   "execution_count": 8,
   "metadata": {
    "ExecuteTime": {
     "end_time": "2018-12-24T02:16:36.961550Z",
     "start_time": "2018-12-24T02:16:36.261925Z"
    }
   },
   "outputs": [
    {
     "data": {
      "image/png": "[encoded data removed]",
      "text/plain": [
       "<Figure size 576x432 with 1 Axes>"
      ]
     },
     "metadata": {
      "needs_background": "light"
     },
     "output_type": "display_data"
    }
   ],
   "source": [
    "x = np.linspace(X.min(), X.max(), 100)\n",
    "\n",
    "plt.figure(figsize=(8,6))\n",
    "plt.scatter(dat['Height'], dat['Weight'], label='')\n",
    "\n",
    "plt.plot(x, x*closed_w, label='Model Line', c='green')\n",
    "\n",
    "plt.xlabel('Height($ft$)', size=15)\n",
    "plt.ylabel('Weight($Lbs$)', size=15)\n",
    "plt.legend();"
   ]
  },
  {
   "cell_type": "markdown",
   "metadata": {},
   "source": [
    "We see that the green line goes through the center of the data points when we know, by the graph, there is obviously a better model with lower error values. This is due to the absence of the bias term. Let's look at the same graph as above but with wider x-axis."
   ]
  },
  {
   "cell_type": "code",
   "execution_count": 9,
   "metadata": {
    "ExecuteTime": {
     "end_time": "2018-12-24T02:16:37.442553Z",
     "start_time": "2018-12-24T02:16:36.964553Z"
    }
   },
   "outputs": [
    {
     "data": {
      "image/png": "[encoded data removed]",
      "text/plain": [
       "<Figure size 576x432 with 1 Axes>"
      ]
     },
     "metadata": {
      "needs_background": "light"
     },
     "output_type": "display_data"
    }
   ],
   "source": [
    "x = np.linspace(0, X.max(), 100)\n",
    "\n",
    "plt.figure(figsize=(8,6))\n",
    "plt.scatter(dat['Height'], dat['Weight'], label='')\n",
    "\n",
    "plt.plot(x, x*closed_w, label='Model Line', c='green')\n",
    "\n",
    "plt.xlabel('Height($ft$)', size=15)\n",
    "plt.ylabel('Weight($Lbs$)', size=15)\n",
    "plt.legend();"
   ]
  },
  {
   "cell_type": "markdown",
   "metadata": {},
   "source": [
    "Since the line has to go through the origin, the best solution it can generate is to go through the center of the data points. "
   ]
  },
  {
   "cell_type": "markdown",
   "metadata": {},
   "source": [
    "Now instead of using the closed-form equation, let's construct one using gradient descent. To do this, we need two helper functions and one main function."
   ]
  },
  {
   "cell_type": "code",
   "execution_count": 10,
   "metadata": {
    "ExecuteTime": {
     "end_time": "2018-12-24T02:16:37.457558Z",
     "start_time": "2018-12-24T02:16:37.445558Z"
    }
   },
   "outputs": [],
   "source": [
    "def grad_mse_weight(w, x, y, b):\n",
    "    \n",
    "    return -2 * np.mean((y - (w*x + b)) * x)\n",
    "\n",
    "def grad_mse_bias(w, x, y, b):\n",
    "    \n",
    "    return -2 * np.mean(y - (w*x + b))\n",
    "\n",
    "def predict(x, y, learning_rate=0.1):\n",
    "    \n",
    "    w = 0\n",
    "    b = 0\n",
    "    \n",
    "    iter_num = 10000\n",
    "    \n",
    "    for i in range(iter_num):\n",
    "        \n",
    "        dw = grad_mse_weight(w, x, y, b)\n",
    "        db = grad_mse_bias(w, x, y, b)\n",
    "        \n",
    "        b -= db * learning_rate\n",
    "        w -= dw * learning_rate\n",
    "        \n",
    "    return w, b"
   ]
  },
  {
   "cell_type": "markdown",
   "metadata": {},
   "source": [
    "The first two functions are used to determine the ideal slope of the linear regression (or the weight) and the bias term."
   ]
  },
  {
   "cell_type": "markdown",
   "metadata": {},
   "source": [
    "If you are not familiar with gradient descent, you can find them [here!](https://tlr.gitbook.io/data-science/machine-learning-basics/gradient-descent). To explain it briefly, those two compute a better value for bias and w at each iteration and update them. "
   ]
  },
  {
   "cell_type": "markdown",
   "metadata": {},
   "source": [
    "In <code>predict(x,y)</code> function, we are looping 10000 times and updating weight and bias every iteration. You can try putting different values for <code>learning_rate</code> and <code>iter_num</code> to acquire a better model."
   ]
  },
  {
   "cell_type": "markdown",
   "metadata": {},
   "source": [
    "When we train and test our model, it is a good practice to divide our data into two portions. One for training and one for testing the model. This is to avoid overfitting of the model. <strike>You can find a post about overfitting and underfitting of a model [here](). To be updated</strike>"
   ]
  },
  {
   "cell_type": "markdown",
   "metadata": {},
   "source": [
    "One more thing you should know is that our height and weight values are quite big that the loss function we are using (Mean Squared Errors) leads to exploding gradient descent value that the resulting bias and weight after predict function will likely generate NaN values. "
   ]
  },
  {
   "cell_type": "markdown",
   "metadata": {},
   "source": [
    "Now let's split our data into training and testing and try using the model without normalization first."
   ]
  },
  {
   "cell_type": "code",
   "execution_count": 11,
   "metadata": {
    "ExecuteTime": {
     "end_time": "2018-12-24T02:16:40.542775Z",
     "start_time": "2018-12-24T02:16:37.460556Z"
    }
   },
   "outputs": [],
   "source": [
    "from sklearn.model_selection import train_test_split\n",
    "\n",
    "X_train, X_val, y_train, y_val = train_test_split(X, y)"
   ]
  },
  {
   "cell_type": "code",
   "execution_count": 12,
   "metadata": {
    "ExecuteTime": {
     "end_time": "2018-12-24T02:16:50.617819Z",
     "start_time": "2018-12-24T02:16:40.544738Z"
    }
   },
   "outputs": [
    {
     "name": "stderr",
     "output_type": "stream",
     "text": [
      "c:\\users\\hsong1101\\anaconda3\\envs\\p\\lib\\site-packages\\ipykernel_launcher.py:22: RuntimeWarning: invalid value encountered in double_scalars\n"
     ]
    }
   ],
   "source": [
    "w, b = predict(X_train, y_train)"
   ]
  },
  {
   "cell_type": "code",
   "execution_count": 13,
   "metadata": {
    "ExecuteTime": {
     "end_time": "2018-12-24T02:16:50.630735Z",
     "start_time": "2018-12-24T02:16:50.619738Z"
    }
   },
   "outputs": [
    {
     "data": {
      "text/plain": [
       "(nan, nan)"
      ]
     },
     "execution_count": 13,
     "metadata": {},
     "output_type": "execute_result"
    }
   ],
   "source": [
    "w, b"
   ]
  },
  {
   "cell_type": "markdown",
   "metadata": {},
   "source": [
    "As you can see, the values for $w$ and $b$ are both nan values. This is because of too much update on both at each iteration. The following statement is the first 5 $w$ and $b$ values at each iteration."
   ]
  },
  {
   "cell_type": "markdown",
   "metadata": {},
   "source": [
    "1. 0.3228807136656615 21.65726752224676\n",
    "2. -2.2295643269137306 -148.1549601788397\n",
    "3. 17.763141860690368 1183.3266020093588\n",
    "4. -139.01850164601672 -9256.691211902544\n",
    "5. 1090.2704303466826 72602.47884447992"
   ]
  },
  {
   "cell_type": "markdown",
   "metadata": {},
   "source": [
    "And setting a very low $learning\\_rate$ for this problem will make the training so slow that it takes long time to find the values. This is why we use normalization on data. By doing this, we are scaling all numeric values to range from 0 to 1 and doing this will ease the construction of a model."
   ]
  },
  {
   "cell_type": "markdown",
   "metadata": {},
   "source": [
    "There is another case when we need to normalize our data. For example, our heights and weights have different scale that heights range from around 50 to 80 while weights range from 50 to 280. What if we changed the heights scale to feet instead of inches. Then we cannot use the same $w$ and $b$ as that results in different regression problem. "
   ]
  },
  {
   "cell_type": "markdown",
   "metadata": {},
   "source": [
    "If we both scale them to certain range, it doesn't matter if the data for prediction comes in feet or inches or centimeters because normalizing them before prediction puts them in the same range as the training."
   ]
  },
  {
   "cell_type": "markdown",
   "metadata": {},
   "source": [
    "So first, let's normalize our data and find an appropriate values."
   ]
  },
  {
   "cell_type": "code",
   "execution_count": 14,
   "metadata": {
    "ExecuteTime": {
     "end_time": "2018-12-24T02:16:50.672737Z",
     "start_time": "2018-12-24T02:16:50.632734Z"
    }
   },
   "outputs": [],
   "source": [
    "x1 = X_train / X_train.max()\n",
    "y1 = y_train / y_train.max()"
   ]
  },
  {
   "cell_type": "code",
   "execution_count": 15,
   "metadata": {
    "ExecuteTime": {
     "end_time": "2018-12-24T02:17:03.029737Z",
     "start_time": "2018-12-24T02:16:50.674744Z"
    }
   },
   "outputs": [
    {
     "data": {
      "text/plain": [
       "(2.238, -1.2583)"
      ]
     },
     "execution_count": 15,
     "metadata": {},
     "output_type": "execute_result"
    }
   ],
   "source": [
    "w, b = predict(x1, y1)\n",
    "\n",
    "round(w, 4), round(b, 4)"
   ]
  },
  {
   "cell_type": "code",
   "execution_count": 16,
   "metadata": {
    "ExecuteTime": {
     "end_time": "2018-12-24T02:17:03.532739Z",
     "start_time": "2018-12-24T02:17:03.032737Z"
    }
   },
   "outputs": [
    {
     "data": {
      "image/png": "[encoded data removed]",
      "text/plain": [
       "<Figure size 576x432 with 1 Axes>"
      ]
     },
     "metadata": {
      "needs_background": "light"
     },
     "output_type": "display_data"
    }
   ],
   "source": [
    "plt.figure(figsize=(8,6))\n",
    "plt.scatter(x1, y1, label='True Points')\n",
    "\n",
    "plt.plot(x1, x1*w + b, label='Trained Model Line', c='r')\n",
    "\n",
    "plt.xlabel('Height', size=15)\n",
    "plt.ylabel('Weight', size=15)\n",
    "plt.legend();"
   ]
  },
  {
   "cell_type": "markdown",
   "metadata": {},
   "source": [
    "Now what we need to do is to predict and compare with true y values. Note that we have to scale them using the same <code>X_train.max</code> and <code>y_train.max</code> for consistency or else the scale of the result will be different."
   ]
  },
  {
   "cell_type": "code",
   "execution_count": 17,
   "metadata": {
    "ExecuteTime": {
     "end_time": "2018-12-24T02:17:03.545752Z",
     "start_time": "2018-12-24T02:17:03.537737Z"
    }
   },
   "outputs": [],
   "source": [
    "x2 = X_val / X.max()\n",
    "y2 = y_val / y.max()"
   ]
  },
  {
   "cell_type": "code",
   "execution_count": 18,
   "metadata": {
    "ExecuteTime": {
     "end_time": "2018-12-24T02:17:04.100736Z",
     "start_time": "2018-12-24T02:17:03.563736Z"
    }
   },
   "outputs": [
    {
     "data": {
      "image/png": "[encoded data removed]",
      "text/plain": [
       "<Figure size 576x432 with 1 Axes>"
      ]
     },
     "metadata": {
      "needs_background": "light"
     },
     "output_type": "display_data"
    }
   ],
   "source": [
    "plt.figure(figsize=(8,6))\n",
    "\n",
    "plt.scatter(x2, y2, label='True Points')\n",
    "plt.plot(x2, x2*w+b, label='Predicted Point', c='r')\n",
    "\n",
    "plt.xlabel('Height', size=15)\n",
    "plt.ylabel('Weight', size=15)\n",
    "plt.legend();"
   ]
  },
  {
   "cell_type": "markdown",
   "metadata": {},
   "source": [
    "Now that we have a model, let's see how much the error is. For the prediction, we should scale them back to its original form to compare with true y values. To do that, we can just multiply the y_max value to the predicted values."
   ]
  },
  {
   "cell_type": "code",
   "execution_count": 19,
   "metadata": {
    "ExecuteTime": {
     "end_time": "2018-12-24T02:17:04.109734Z",
     "start_time": "2018-12-24T02:17:04.104743Z"
    }
   },
   "outputs": [],
   "source": [
    "def MSE(pred, y):\n",
    "    return np.mean(np.square(y - pred))"
   ]
  },
  {
   "cell_type": "code",
   "execution_count": 20,
   "metadata": {
    "ExecuteTime": {
     "end_time": "2018-12-24T02:17:04.135735Z",
     "start_time": "2018-12-24T02:17:04.112734Z"
    }
   },
   "outputs": [
    {
     "name": "stdout",
     "output_type": "stream",
     "text": [
      "Error Using Closed-Form Equation : 789.055779681464\n",
      "Error Using Gradient Descent : 190.94361388812658\n"
     ]
    }
   ],
   "source": [
    "print('Error Using Closed-Form Equation : {}'.format(MSE(X_val*w, y_val)))\n",
    "print('Error Using Gradient Descent : {}'.format(MSE((x2*w+b) * y.max(), y_val)))"
   ]
  },
  {
   "cell_type": "markdown",
   "metadata": {},
   "source": [
    "***"
   ]
  },
  {
   "cell_type": "markdown",
   "metadata": {},
   "source": [
    "We can use linear regression even on functions that are not linear. For example, consider the following plot."
   ]
  },
  {
   "cell_type": "code",
   "execution_count": 25,
   "metadata": {
    "ExecuteTime": {
     "end_time": "2018-12-24T02:17:39.713132Z",
     "start_time": "2018-12-24T02:17:39.708125Z"
    }
   },
   "outputs": [],
   "source": [
    "x = np.linspace(-10, 10, 100)\n",
    "y = x + np.sin(x)\n",
    "err = np.random.normal(0, 0.7, 100)\n",
    "true_y = y + err"
   ]
  },
  {
   "cell_type": "code",
   "execution_count": 26,
   "metadata": {
    "ExecuteTime": {
     "end_time": "2018-12-24T02:17:42.055894Z",
     "start_time": "2018-12-24T02:17:41.728934Z"
    }
   },
   "outputs": [
    {
     "data": {
      "text/plain": [
       "(1.0211549273118783, 1.1088907569956085e-16)"
      ]
     },
     "execution_count": 26,
     "metadata": {},
     "output_type": "execute_result"
    }
   ],
   "source": [
    "w, b = predict(x, y, learning_rate=0.01)\n",
    "w, b"
   ]
  },
  {
   "cell_type": "code",
   "execution_count": 27,
   "metadata": {
    "ExecuteTime": {
     "end_time": "2018-12-24T02:17:43.141864Z",
     "start_time": "2018-12-24T02:17:42.935866Z"
    }
   },
   "outputs": [
    {
     "data": {
      "image/png": "[encoded data removed]",
      "text/plain": [
       "<Figure size 576x432 with 1 Axes>"
      ]
     },
     "metadata": {
      "needs_background": "light"
     },
     "output_type": "display_data"
    }
   ],
   "source": [
    "plt.figure(figsize=(8, 6))\n",
    "plt.scatter(x, true_y);"
   ]
  },
  {
   "cell_type": "code",
   "execution_count": 28,
   "metadata": {
    "ExecuteTime": {
     "end_time": "2018-12-24T02:17:59.037469Z",
     "start_time": "2018-12-24T02:17:58.786410Z"
    }
   },
   "outputs": [
    {
     "data": {
      "image/png": "[encoded data removed]",
      "text/plain": [
       "<Figure size 576x432 with 1 Axes>"
      ]
     },
     "metadata": {
      "needs_background": "light"
     },
     "output_type": "display_data"
    }
   ],
   "source": [
    "plt.figure(figsize=(8, 6))\n",
    "plt.scatter(x, y+err)\n",
    "plt.plot(x,x*w + b, c='r', label='Linear Model')\n",
    "plt.legend();"
   ]
  },
  {
   "cell_type": "code",
   "execution_count": 30,
   "metadata": {
    "ExecuteTime": {
     "end_time": "2018-12-24T02:18:17.751944Z",
     "start_time": "2018-12-24T02:18:17.746942Z"
    }
   },
   "outputs": [
    {
     "name": "stdout",
     "output_type": "stream",
     "text": [
      "Error Value : 0.8807519478957064\n"
     ]
    }
   ],
   "source": [
    "print('Error Value : {}'.format(MSE(w*x + b, true_y)))"
   ]
  },
  {
   "cell_type": "markdown",
   "metadata": {},
   "source": [
    "Now let's define our model with the function $f(x) = \\theta_1 x + sin(\\theta_2 x)$. The next functions are gradient descent to compute $\\theta_1$ and $\\theta_2$. Since the above data goes through the origin, we don't have to include a bias term this time."
   ]
  },
  {
   "cell_type": "code",
   "execution_count": 31,
   "metadata": {
    "ExecuteTime": {
     "end_time": "2018-12-24T02:18:28.657051Z",
     "start_time": "2018-12-24T02:18:28.646056Z"
    }
   },
   "outputs": [],
   "source": [
    "def model(x, theta):\n",
    "    return x*theta[0] + np.sin(x*theta[1])\n",
    "\n",
    "def grad_dt1(x, y, theta):\n",
    "    \n",
    "    return -2 * np.mean(x * (y - theta[0] * x - np.sin(theta[1] * x)))\n",
    "\n",
    "def grad_dt2(x, y, theta):\n",
    "    \n",
    "    return -2 * np.mean((y - (theta[0] * x + np.sin(theta[1] * x))) * (x * np.cos(theta[1] * x)))\n",
    "\n",
    "def predict(x, y, theta, learning_rate=0.01):\n",
    "    \n",
    "    t1, t2 = 0, 0\n",
    "    \n",
    "    iter_num = 20\n",
    "    \n",
    "    for i in range(iter_num):\n",
    "        \n",
    "        dt1 = grad_dt1(x, y, theta)\n",
    "        dt2 = grad_dt2(x, y, theta)\n",
    "        \n",
    "        t1 -= dt1 * learning_rate\n",
    "        t2 -= dt2 * learning_rate\n",
    "        \n",
    "        \n",
    "    return t1, t2"
   ]
  },
  {
   "cell_type": "code",
   "execution_count": 32,
   "metadata": {
    "ExecuteTime": {
     "end_time": "2018-12-24T02:19:07.593342Z",
     "start_time": "2018-12-24T02:19:07.585343Z"
    }
   },
   "outputs": [
    {
     "data": {
      "text/plain": [
       "(1.0140034045886168, 1.0140034045886168)"
      ]
     },
     "execution_count": 32,
     "metadata": {},
     "output_type": "execute_result"
    }
   ],
   "source": [
    "t1, t2 = predict(x, y, [0, 0], learning_rate=0.00)\n",
    "t1, t2"
   ]
  },
  {
   "cell_type": "code",
   "execution_count": 33,
   "metadata": {
    "ExecuteTime": {
     "end_time": "2018-12-24T02:19:10.034210Z",
     "start_time": "2018-12-24T02:19:09.795232Z"
    }
   },
   "outputs": [
    {
     "data": {
      "image/png": "[encoded data removed]",
      "text/plain": [
       "<Figure size 576x432 with 1 Axes>"
      ]
     },
     "metadata": {
      "needs_background": "light"
     },
     "output_type": "display_data"
    }
   ],
   "source": [
    "plt.figure(figsize=(8, 6))\n",
    "plt.scatter(x, y+err)\n",
    "plt.plot(x, model(x, [t1, t2]), c='r', label='Complex Model')\n",
    "plt.legend();"
   ]
  },
  {
   "cell_type": "code",
   "execution_count": 34,
   "metadata": {
    "ExecuteTime": {
     "end_time": "2018-12-24T02:19:20.040833Z",
     "start_time": "2018-12-24T02:19:20.035833Z"
    }
   },
   "outputs": [
    {
     "name": "stdout",
     "output_type": "stream",
     "text": [
      "Error Value : 0.47982374428088953\n"
     ]
    }
   ],
   "source": [
    "print('Error Value : {}'.format(MSE(model(x, [t1, t2]), y+err)))"
   ]
  },
  {
   "cell_type": "markdown",
   "metadata": {},
   "source": [
    "Note that I've tried many different learning_rate value to have a model that fits well to the data points."
   ]
  },
  {
   "cell_type": "markdown",
   "metadata": {},
   "source": [
    "Check that the first model generates less error value. This is due to the $err$ value added to y that its variance is high that straight line produces less errors. But the second model would work better if the variance is lower than the current."
   ]
  },
  {
   "cell_type": "markdown",
   "metadata": {},
   "source": [
    "Let's compare, using the same x, y, w, b and theta values but less errors."
   ]
  },
  {
   "cell_type": "code",
   "execution_count": null,
   "metadata": {
    "ExecuteTime": {
     "end_time": "2018-12-24T02:17:04.812737Z",
     "start_time": "2018-12-24T02:16:31.893Z"
    }
   },
   "outputs": [],
   "source": [
    "err = np.random.normal(0, 0.3, 100)\n",
    "\n",
    "print('Error Value of Sin Model : {}'.format(MSE(model(x, [t1, t2]), y+err)))\n",
    "print('Error Value of Complex Model : {}'.format(MSE(x*w + b, y+err)))"
   ]
  },
  {
   "cell_type": "markdown",
   "metadata": {},
   "source": [
    "So when using a linear regression on a dataset, we should try different models and find one that works the best among them."
   ]
  },
  {
   "cell_type": "markdown",
   "metadata": {},
   "source": [
    "# End Note "
   ]
  },
  {
   "cell_type": "markdown",
   "metadata": {},
   "source": [
    "This post only deals with the basic linear regression without any regularization such as Lasso, Ridge or Elastic Net. There are many versions of it besides Ordinary Least Squares. These topics will be covered in later posts."
   ]
  },
  {
   "cell_type": "markdown",
   "metadata": {},
   "source": [
    "Thank you all for reading and if you find any errors or typos or have any suggestions, please let me know."
   ]
  },
  {
   "cell_type": "markdown",
   "metadata": {},
   "source": [
    "Thank you all for reading!"
   ]
  },
  {
   "cell_type": "code",
   "execution_count": null,
   "metadata": {},
   "outputs": [],
   "source": []
  },
  {
   "cell_type": "code",
   "execution_count": null,
   "metadata": {},
   "outputs": [],
   "source": []
  },
  {
   "cell_type": "code",
   "execution_count": null,
   "metadata": {
    "ExecuteTime": {
     "end_time": "2018-12-24T02:17:04.815739Z",
     "start_time": "2018-12-24T02:16:31.908Z"
    }
   },
   "outputs": [],
   "source": [
    "# from celluloid import Camera\n",
    "\n",
    "# fig, ax = plt.subplots(figsize=(8, 6))\n",
    "# camera = Camera(fig)\n",
    "\n",
    "# lr = 0.1\n",
    "# w = 0\n",
    "# b = 0\n",
    "\n",
    "\n",
    "\n",
    "# for i in range(10000):\n",
    "    \n",
    "#     dw = grad_mse_weight(w, x1, y1, b)\n",
    "#     db = grad_mse_bias(w, x1, y1, b)\n",
    "\n",
    "#     b -= db * lr\n",
    "#     w -= dw * lr\n",
    "    \n",
    "#     if i % 500 == 0:\n",
    "        \n",
    "#         ax.scatter(x1, y1, c='grey')\n",
    "#         ax.set_xlabel('Height', size=15)\n",
    "#         ax.set_ylabel('Weight', size=15)\n",
    "#         ax.set_xticks([])\n",
    "#         ax.set_yticks([])\n",
    "         \n",
    "#         ax.plot(x1, x1*w+b, label=\"Trained Prediction\", c='red');\n",
    "        \n",
    "#         camera.snap()\n",
    "# anim = camera.animate()\n",
    "# anim.save('anim1.gif', writer='imagemagick')"
   ]
  }
 ],
 "metadata": {
  "kernelspec": {
   "display_name": "Python 3",
   "language": "python",
   "name": "python3"
  },
  "language_info": {
   "codemirror_mode": {
    "name": "ipython",
    "version": 3
   },
   "file_extension": ".py",
   "mimetype": "text/x-python",
   "name": "python",
   "nbconvert_exporter": "python",
   "pygments_lexer": "ipython3",
   "version": "3.6.6"
  }
 },
 "nbformat": 4,
 "nbformat_minor": 2
}
