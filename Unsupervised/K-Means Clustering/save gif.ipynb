{
 "cells": [
  {
   "cell_type": "code",
   "execution_count": 4,
   "metadata": {
    "ExecuteTime": {
     "end_time": "2018-11-29T18:06:16.684829Z",
     "start_time": "2018-11-29T18:06:16.679865Z"
    }
   },
   "outputs": [],
   "source": [
    "import numpy as np\n",
    "import pandas as pd\n",
    "import matplotlib.pyplot as plt\n",
    "import matplotlib.animation as animation\n",
    "import sys"
   ]
  },
  {
   "cell_type": "code",
   "execution_count": 5,
   "metadata": {
    "ExecuteTime": {
     "end_time": "2018-11-29T18:06:17.984107Z",
     "start_time": "2018-11-29T18:06:17.970110Z"
    }
   },
   "outputs": [],
   "source": [
    "def get_distance(p1, p2):\n",
    "    \"\"\"\n",
    "    input : two coordinates of two positions\n",
    "    output : euclidean distance between two points.\n",
    "    \"\"\"\n",
    "    z = np.array(p1)-np.array(p2)\n",
    "    return np.sqrt(np.dot(z, z))\n",
    "\n",
    "\n",
    "def k_points(n):\n",
    "    \"\"\"\n",
    "    input : n is the number of groups\n",
    "    output : a list of randomly generated position of each group.\n",
    "    \n",
    "    points indicates current data points that belongs to each group.\n",
    "    curr indicates the current position and prev is previous.\n",
    "    \"\"\"\n",
    "    return [{'prev':None, 'curr':(np.random.randint(-4, 4, 1)[0],np.random.randint(-4, 4, 1)[0]), 'points':[]} for _ in range(n)]\n",
    "\n",
    "\n",
    "def update_position():\n",
    "    \"\"\"\n",
    "    Set each group's new position to the center (or the mean) of points that it has currently.\n",
    "    After that, reset points since previous and current points don't depend on each other.\n",
    "    \"\"\"\n",
    "    dat = {}\n",
    "    for i, point in enumerate(p):\n",
    "        point['prev'] = point['curr']\n",
    "        point['curr'] = np.mean(point['points'], axis=0) if len(point['points']) > 0 else point['prev']\n",
    "        dat[i] = np.array(point['points'])\n",
    "        point['points'] = []\n",
    "    return dat\n",
    "\n",
    "def done_moving():\n",
    "    \"\"\"\n",
    "    output : boolean\n",
    "    \n",
    "    Check if it needs another iteration.\n",
    "    It will return false if even one of k points have different prev and curr.\n",
    "    \"\"\"\n",
    "    for point in p:\n",
    "        if np.any(point['curr'] != point['prev']):\n",
    "            return False\n",
    "    return True\n",
    "\n",
    "\n",
    "def assign_points(x, y):\n",
    "    \"\"\"\n",
    "    input : data points for training\n",
    "    \n",
    "    Compute each distance between k points and given x1, y1 coordinate and assign it to the closest point.\n",
    "    \"\"\"\n",
    "    for x1, y1 in zip(x, y):\n",
    "        \n",
    "        dist = [get_distance(point['curr'], [x1,y1]) for point in p]\n",
    "        \n",
    "        # Get the closest kth point from current x,y\n",
    "        closest_point = dist.index(min(dist))\n",
    "        p[closest_point]['points'].append([x1,y1])\n",
    "    \n"
   ]
  },
  {
   "cell_type": "code",
   "execution_count": 6,
   "metadata": {
    "ExecuteTime": {
     "end_time": "2018-11-29T18:06:19.034955Z",
     "start_time": "2018-11-29T18:06:19.028955Z"
    }
   },
   "outputs": [],
   "source": [
    "size = 200\n",
    "x = np.random.normal(0, 2, size)\n",
    "y = np.random.normal(-0.5, 3, size)\n",
    "colors = ['r', 'blue', 'g', 'black', 'y']"
   ]
  },
  {
   "cell_type": "code",
   "execution_count": 13,
   "metadata": {
    "ExecuteTime": {
     "end_time": "2018-11-29T18:06:34.480906Z",
     "start_time": "2018-11-29T18:06:34.060907Z"
    }
   },
   "outputs": [
    {
     "name": "stdout",
     "output_type": "stream",
     "text": [
      "Done at 8th iteration\n"
     ]
    },
    {
     "data": {
      "image/png": "[encoded data removed]",
      "text/plain": [
       "<Figure size 576x432 with 1 Axes>"
      ]
     },
     "metadata": {
      "needs_background": "light"
     },
     "output_type": "display_data"
    }
   ],
   "source": [
    "from celluloid import Camera\n",
    "p = k_points(5)\n",
    "i = 1\n",
    "fig, ax = plt.subplots(figsize=(8, 6))\n",
    "camera = Camera(fig)\n",
    "\n",
    "ax.set_xlim(-8, 8)\n",
    "ax.set_ylim(-10, 10)\n",
    "\n",
    "while not done_moving():\n",
    "        \n",
    "    assign_points(x, y)\n",
    "    points = update_position()\n",
    "\n",
    "    for j in range(len(p)):\n",
    "        ax.scatter(p[j]['curr'][0], p[j]['curr'][1], s=110, c=colors[j])\n",
    "        if len(points[j]) > 0:\n",
    "            ax.scatter(points[j][:,0], points[j][:,1], c=colors[j], alpha=0.4)\n",
    "        \n",
    "    i += 1\n",
    "    camera.snap()\n",
    "    \n",
    "print(\"Done at {}th iteration\".format(i))"
   ]
  },
  {
   "cell_type": "code",
   "execution_count": 14,
   "metadata": {
    "ExecuteTime": {
     "end_time": "2018-11-29T18:06:39.923912Z",
     "start_time": "2018-11-29T18:06:37.819653Z"
    }
   },
   "outputs": [],
   "source": [
    "anim = camera.animate()\n",
    "anim.save('anim1.gif', writer='imagemagick')"
   ]
  }
 ],
 "metadata": {
  "kernelspec": {
   "display_name": "Python 3",
   "language": "python",
   "name": "python3"
  },
  "language_info": {
   "codemirror_mode": {
    "name": "ipython",
    "version": 3
   },
   "file_extension": ".py",
   "mimetype": "text/x-python",
   "name": "python",
   "nbconvert_exporter": "python",
   "pygments_lexer": "ipython3",
   "version": "3.6.6"
  }
 },
 "nbformat": 4,
 "nbformat_minor": 2
}
