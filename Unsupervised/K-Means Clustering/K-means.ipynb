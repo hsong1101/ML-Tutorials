{
 "cells": [
  {
   "cell_type": "markdown",
   "metadata": {},
   "source": [
    "# Intro"
   ]
  },
  {
   "cell_type": "markdown",
   "metadata": {},
   "source": [
    "In this post, I will talk about one of unsupervised learning techniques called K-Means Clustering. It is easy to understand and implement from the scratch.\n"
   ]
  },
  {
   "cell_type": "markdown",
   "metadata": {},
   "source": [
    "As this technique is unsupervised, we don't get input with any particular labels. So when we use this technique, all we do is group them into $k$ groups and when data for prediction is given, we output which group it belongs to. We can use this in multiple situations. For example, we are given locations of retail shops that we send our supplies to and we would like to know where we should build our storage units for those supplies. If we are only planning to have one mega-size storage, we could put one in the center of those shops. We can choose any number of storage units ($k$) and decide which location would be ideal to build those for better, faster and easier access and deliveries. "
   ]
  },
  {
   "cell_type": "markdown",
   "metadata": {},
   "source": [
    "Below is an animation showing simple K-Means clustering and how it works."
   ]
  },
  {
   "cell_type": "markdown",
   "metadata": {},
   "source": [
    "![K-Means Animation](anim.gif)"
   ]
  },
  {
   "cell_type": "markdown",
   "metadata": {},
   "source": [
    "### Load libraries "
   ]
  },
  {
   "cell_type": "code",
   "execution_count": 15,
   "metadata": {
    "ExecuteTime": {
     "end_time": "2018-11-29T19:08:51.611288Z",
     "start_time": "2018-11-29T19:08:51.604275Z"
    }
   },
   "outputs": [],
   "source": [
    "import numpy as np\n",
    "import pandas as pd\n",
    "import matplotlib.pyplot as plt"
   ]
  },
  {
   "cell_type": "markdown",
   "metadata": {},
   "source": [
    "The function in numpy <code>np.random.normal(loc, scale, size)</code> creates randomly generated data points centered at the parameter <code>loc</code>. <code>Scale</code> indicates how much these generated numbers will be spread out from the center. The <code>size</code> is the number of data points to be created.<br>For our problem, let us create two variables for our whole data set. To plot and see the points, <code>x</code> and <code>y</code> should have the same size."
   ]
  },
  {
   "cell_type": "code",
   "execution_count": 2,
   "metadata": {
    "ExecuteTime": {
     "end_time": "2018-11-29T18:59:28.556028Z",
     "start_time": "2018-11-29T18:59:28.549028Z"
    }
   },
   "outputs": [],
   "source": [
    "size = 200\n",
    "x = np.random.normal(0, 2, size)\n",
    "y = np.random.normal(-0.5, 3, size)"
   ]
  },
  {
   "cell_type": "markdown",
   "metadata": {},
   "source": [
    "And if we plot them, it will look like the following."
   ]
  },
  {
   "cell_type": "code",
   "execution_count": 3,
   "metadata": {
    "ExecuteTime": {
     "end_time": "2018-11-29T18:59:28.812027Z",
     "start_time": "2018-11-29T18:59:28.560027Z"
    }
   },
   "outputs": [
    {
     "data": {
      "image/png": "[encoded data removed]",
      "text/plain": [
       "<Figure size 576x432 with 1 Axes>"
      ]
     },
     "metadata": {
      "needs_background": "light"
     },
     "output_type": "display_data"
    }
   ],
   "source": [
    "plt.figure(figsize=(8,6))\n",
    "plt.scatter(x, y)\n",
    "plt.xlim(-8, 8)\n",
    "plt.ylim(-10, 10);"
   ]
  },
  {
   "cell_type": "markdown",
   "metadata": {},
   "source": [
    "# Implementation"
   ]
  },
  {
   "cell_type": "markdown",
   "metadata": {},
   "source": [
    "### Function Definitions"
   ]
  },
  {
   "cell_type": "markdown",
   "metadata": {},
   "source": [
    "Below are the functions necessary to implement K-Means clustering and I've commented its usage so that you can understand what it is doing. Even without those comments, it is pretty easy and clear to grasp what each of it does."
   ]
  },
  {
   "cell_type": "code",
   "execution_count": 4,
   "metadata": {
    "ExecuteTime": {
     "end_time": "2018-11-29T18:59:28.834029Z",
     "start_time": "2018-11-29T18:59:28.817033Z"
    }
   },
   "outputs": [],
   "source": [
    "def get_distance(p1, p2):\n",
    "    \"\"\"\n",
    "    input : two coordinates of two positions\n",
    "    output : euclidean distance between two points.\n",
    "    \"\"\"\n",
    "    z = np.array(p1)-np.array(p2)\n",
    "    return np.sqrt(np.dot(z, z))\n",
    "\n",
    "\n",
    "def k_points(n):\n",
    "    \"\"\"\n",
    "    input : n is the number of groups\n",
    "    output : a list of randomly generated position of each group.\n",
    "    \n",
    "    points indicates current data points that belongs to each group.\n",
    "    curr indicates the current position and prev is previous.\n",
    "    \"\"\"\n",
    "    return [{'prev':None, 'curr':(np.random.randint(-4, 4, 1)[0],np.random.randint(-4, 4, 1)[0]), 'points':[]} for _ in range(n)]\n",
    "\n",
    "\n",
    "def update_position():\n",
    "    \"\"\"\n",
    "    output : a dictionary of each k points with data points.\n",
    "    \n",
    "    Set each group's new position to the center (or the mean) of points that it has currently.\n",
    "    After that, reset points since previous and current points don't depend on each other.\n",
    "    \"\"\"\n",
    "    dat = {}\n",
    "    for i, point in enumerate(p):\n",
    "        point['prev'] = point['curr']\n",
    "        point['curr'] = np.mean(point['points'], axis=0) if len(point['points']) > 0 else point['prev']\n",
    "        dat[i] = np.array(point['points'])\n",
    "        point['points'] = []\n",
    "    return dat\n",
    "def done_moving():\n",
    "    \"\"\"\n",
    "    output : boolean\n",
    "    \n",
    "    Check if it needs another iteration.\n",
    "    It will return false if even one of k points have different prev and curr.\n",
    "    \"\"\"\n",
    "    for point in p:\n",
    "        if np.any(point['curr'] != point['prev']):\n",
    "            return False\n",
    "    return True\n",
    "\n",
    "\n",
    "def assign_points(x, y):\n",
    "    \"\"\"\n",
    "    input : data points for training\n",
    "    \n",
    "    Compute each distance between k points and given x1, y1 coordinate and assign it to the closest point.\n",
    "    \"\"\"\n",
    "    for x1, y1 in zip(x, y):\n",
    "        \n",
    "        dist = [get_distance(point['curr'], [x1,y1]) for point in p]\n",
    "        \n",
    "        # Get the closest kth point from current x,y\n",
    "        closest_point = dist.index(min(dist))\n",
    "        p[closest_point]['points'].append([x1,y1])\n",
    "    \n"
   ]
  },
  {
   "cell_type": "markdown",
   "metadata": {},
   "source": [
    "For this exercise, I am using 2D examples so if it in different dimension, <code>assign_points</code> should be modified that it takes more arguments. It is also possible to dynamically take in different number of arguments and feel free to do so."
   ]
  },
  {
   "cell_type": "markdown",
   "metadata": {},
   "source": [
    "### Application with 5 points"
   ]
  },
  {
   "cell_type": "markdown",
   "metadata": {},
   "source": [
    "Now let's create five points and plot with earlier x and y values and see the first graph."
   ]
  },
  {
   "cell_type": "code",
   "execution_count": 12,
   "metadata": {
    "ExecuteTime": {
     "end_time": "2018-11-29T19:05:46.544269Z",
     "start_time": "2018-11-29T19:05:46.538269Z"
    }
   },
   "outputs": [],
   "source": [
    "p = k_points(5)"
   ]
  },
  {
   "cell_type": "code",
   "execution_count": 6,
   "metadata": {
    "ExecuteTime": {
     "end_time": "2018-11-29T18:59:28.870032Z",
     "start_time": "2018-11-29T18:59:28.855031Z"
    }
   },
   "outputs": [],
   "source": [
    "colors = ['red', 'blue', 'green', 'black', 'yellow']"
   ]
  },
  {
   "cell_type": "code",
   "execution_count": 13,
   "metadata": {
    "ExecuteTime": {
     "end_time": "2018-11-29T19:05:47.741686Z",
     "start_time": "2018-11-29T19:05:47.477691Z"
    }
   },
   "outputs": [
    {
     "data": {
      "image/png": "[encoded data removed]",
      "text/plain": [
       "<Figure size 576x432 with 1 Axes>"
      ]
     },
     "metadata": {
      "needs_background": "light"
     },
     "output_type": "display_data"
    }
   ],
   "source": [
    "plt.figure(figsize=(8,6))\n",
    "plt.xlim(-8, 8)\n",
    "plt.ylim(-10, 10)\n",
    "\n",
    "assign_points(x, y)\n",
    "points = update_position()\n",
    "\n",
    "for i in range(len(p)):\n",
    "    plt.scatter(p[i]['curr'][0], p[i]['curr'][1], s=110, c=colors[i])\n",
    "    \n",
    "    # It is possible that in certain cases, ith group in k doesn't have any points that slicing points[i] can output\n",
    "    # index error. So only scatter if it has 1 or more pairs of points.\n",
    "    if len(points[i]) > 0:\n",
    "        plt.scatter(points[i][:,0], points[i][:,1], c=colors[i], alpha=0.4)\n",
    "        "
   ]
  },
  {
   "cell_type": "markdown",
   "metadata": {},
   "source": [
    "Most likely this and your graph looks differ as the data is generated randomly. Also I made data points to be a bit transparent so it is easier to distinguish them from 5 group points and each color corresponds to each colored group."
   ]
  },
  {
   "cell_type": "markdown",
   "metadata": {},
   "source": [
    "Now that we've implemented our data points and $k$ points, let's loop them until it converges. Note that the code below is longer than it is necessary because of the visualization. If you don't need any kind of plots, you can use the commented codes."
   ]
  },
  {
   "cell_type": "code",
   "execution_count": 14,
   "metadata": {
    "ExecuteTime": {
     "end_time": "2018-11-29T19:06:04.704715Z",
     "start_time": "2018-11-29T19:05:53.132340Z"
    }
   },
   "outputs": [
    {
     "data": {
      "image/png": "[encoded data removed]",
      "text/plain": [
       "<Figure size 576x432 with 1 Axes>"
      ]
     },
     "metadata": {
      "needs_background": "light"
     },
     "output_type": "display_data"
    },
    {
     "name": "stdout",
     "output_type": "stream",
     "text": [
      "Done at 14th iteration\n"
     ]
    }
   ],
   "source": [
    "i = 1\n",
    "fig, ax = plt.subplots(figsize=(8, 6))\n",
    "\n",
    "ax.set_xlim(-8, 8)\n",
    "ax.set_ylim(-10, 10)\n",
    "\n",
    "while not done_moving():\n",
    "        \n",
    "    assign_points(x, y)\n",
    "    points = update_position()\n",
    "\n",
    "    for j in range(len(p)):\n",
    "        ax.scatter(p[j]['curr'][0], p[j]['curr'][1], s=110, c=colors[j])\n",
    "        if len(points[j]) > 0:\n",
    "            ax.scatter(points[j][:,0], points[j][:,1], c=colors[j], alpha=0.4)\n",
    "        \n",
    "    i += 1\n",
    "    plt.pause(0.8)\n",
    "    # this clears out the previous plot\n",
    "    ax.cla()\n",
    "print(\"Done at {}th iteration\".format(i))\n",
    "\n",
    "# Uncomment this for no visualization\n",
    "# i = 1\n",
    "\n",
    "# while not done_moving():\n",
    "        \n",
    "#     assign_points(x, y)\n",
    "#     update_position()\n",
    "#     i += 1\n",
    "\n",
    "# print(\"Done at {}th iteration\".format(i))"
   ]
  },
  {
   "cell_type": "markdown",
   "metadata": {},
   "source": [
    "Now that we've trained a model, let's test with five randomly generated data points and predict each of its class (0 to 4)."
   ]
  },
  {
   "cell_type": "code",
   "execution_count": 9,
   "metadata": {
    "ExecuteTime": {
     "end_time": "2018-11-29T18:59:44.100985Z",
     "start_time": "2018-11-29T18:59:44.093989Z"
    }
   },
   "outputs": [],
   "source": [
    "test_x = np.random.normal(0, 2, 5)\n",
    "test_y = np.random.normal(-0.5, 3, 5)"
   ]
  },
  {
   "cell_type": "code",
   "execution_count": 10,
   "metadata": {
    "ExecuteTime": {
     "end_time": "2018-11-29T18:59:44.125985Z",
     "start_time": "2018-11-29T18:59:44.103986Z"
    }
   },
   "outputs": [],
   "source": [
    "def predict_class(test_x, test_y):\n",
    "    \n",
    "    assign_points(test_x, test_y)\n",
    "    \n",
    "    for i, point in enumerate(p):\n",
    "        for dat in point['points']:\n",
    "            print('Data point at {} belongs in class {}'.format(dat,i))\n",
    "        point['points'] = []"
   ]
  },
  {
   "cell_type": "code",
   "execution_count": 11,
   "metadata": {
    "ExecuteTime": {
     "end_time": "2018-11-29T18:59:44.155989Z",
     "start_time": "2018-11-29T18:59:44.130982Z"
    }
   },
   "outputs": [
    {
     "name": "stdout",
     "output_type": "stream",
     "text": [
      "Data point at [-3.0392765849837944, 5.1916595680342725] belongs in class 0\n",
      "Data point at [2.7373854043368717, 5.0552030451648395] belongs in class 1\n",
      "Data point at [1.783583009342738, -1.0744576081808348] belongs in class 2\n",
      "Data point at [1.3689416852934952, -2.13615385922693] belongs in class 2\n",
      "Data point at [1.9153785763496811, -2.710038119013541] belongs in class 2\n"
     ]
    }
   ],
   "source": [
    "predict_class(test_x, test_y)"
   ]
  },
  {
   "cell_type": "markdown",
   "metadata": {},
   "source": [
    "It works! You should note that depending on where these $k$ points are generated, the final graph can be different from each other. Let's look at one simple example next."
   ]
  },
  {
   "cell_type": "markdown",
   "metadata": {},
   "source": [
    "![figure a](diff.png)"
   ]
  },
  {
   "cell_type": "markdown",
   "metadata": {},
   "source": [
    "As we can see two different plots above, we have two data points at (-1,0) and (1,0). But while in the left plot each point belongs to each different group, in the right we can see that two points belong to orange group and the green has no data points. "
   ]
  },
  {
   "cell_type": "markdown",
   "metadata": {},
   "source": [
    "Just like the example, though the data points are same it does not mean nor guarantee that the final results of two different plots will end up in the same and so how those $k$ points initialize can greatly impact the outcome so keep in mind."
   ]
  },
  {
   "cell_type": "markdown",
   "metadata": {},
   "source": [
    "# End Note"
   ]
  },
  {
   "cell_type": "markdown",
   "metadata": {},
   "source": [
    "The codes above can all be further improved for either better efficiency and optimization or for visualizations but as this post is not about that, I will leave it as is. "
   ]
  },
  {
   "cell_type": "markdown",
   "metadata": {},
   "source": [
    "Thank you for reading the post and please let me know if you find any error."
   ]
  }
 ],
 "metadata": {
  "kernelspec": {
   "display_name": "Python 3",
   "language": "python",
   "name": "python3"
  },
  "language_info": {
   "codemirror_mode": {
    "name": "ipython",
    "version": 3
   },
   "file_extension": ".py",
   "mimetype": "text/x-python",
   "name": "python",
   "nbconvert_exporter": "python",
   "pygments_lexer": "ipython3",
   "version": "3.6.6"
  }
 },
 "nbformat": 4,
 "nbformat_minor": 2
}
