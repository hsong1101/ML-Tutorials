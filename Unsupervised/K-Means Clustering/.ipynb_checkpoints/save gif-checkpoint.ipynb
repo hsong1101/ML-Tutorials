{
 "cells": [
  {
   "cell_type": "code",
   "execution_count": 70,
   "metadata": {
    "ExecuteTime": {
     "end_time": "2018-11-09T01:44:02.748700Z",
     "start_time": "2018-11-09T01:44:02.273729Z"
    }
   },
   "outputs": [],
   "source": [
    "import sys\n",
    "import numpy as np\n",
    "import matplotlib.pyplot as plt\n",
    "import matplotlib\n",
    "from matplotlib.animation import FuncAnimation\n",
    "import os\n",
    "import imageio"
   ]
  },
  {
   "cell_type": "markdown",
   "metadata": {},
   "source": [
    "Images combining for gif"
   ]
  },
  {
   "cell_type": "code",
   "execution_count": 92,
   "metadata": {
    "ExecuteTime": {
     "end_time": "2018-11-09T01:56:14.015963Z",
     "start_time": "2018-11-09T01:56:13.501940Z"
    }
   },
   "outputs": [],
   "source": [
    "dire = './'\n",
    "img = [imageio.imread('./{}.png'.format(i)) for i in range(1, 17)]\n",
    "# imageio.mimsave('./yay.gif', img, duration=0.3)"
   ]
  }
 ],
 "metadata": {
  "kernelspec": {
   "display_name": "Python 3",
   "language": "python",
   "name": "python3"
  },
  "language_info": {
   "codemirror_mode": {
    "name": "ipython",
    "version": 3
   },
   "file_extension": ".py",
   "mimetype": "text/x-python",
   "name": "python",
   "nbconvert_exporter": "python",
   "pygments_lexer": "ipython3",
   "version": "3.5.5"
  }
 },
 "nbformat": 4,
 "nbformat_minor": 2
}
