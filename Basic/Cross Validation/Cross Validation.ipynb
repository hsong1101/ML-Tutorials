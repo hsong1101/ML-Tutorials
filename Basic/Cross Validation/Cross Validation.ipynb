{
 "cells": [
  {
   "cell_type": "markdown",
   "metadata": {},
   "source": [
    "# Cross Validation "
   ]
  },
  {
   "cell_type": "markdown",
   "metadata": {},
   "source": [
    "## Intro"
   ]
  },
  {
   "cell_type": "markdown",
   "metadata": {},
   "source": [
    "Every time after we make a model, we have to check if it is functioning properly or not. But testing on the data that was used to build the model is a bad idea. When testing if one performs well, it should be tested on a separate data set which hasn't been used for training which is the reason before doing anything, we separate the whole data into training and testing sets."
   ]
  },
  {
   "cell_type": "markdown",
   "metadata": {},
   "source": [
    "Once we build a model, we test it on testing set over and over again until it becomes accurate enough to be used. <br>\n",
    "A problem in this case is this is also a bad practice. Doing this will cause the model to be overfitting on testing data that when some new data is inserted, it may work poorly. This is a reason that testing set should only be used once throughout the entire training and testing. "
   ]
  },
  {
   "cell_type": "markdown",
   "metadata": {},
   "source": [
    "If we cannot use the testing set, how can we check if a model is working well? We cannot use training nor testing set. For this reason we have something called Cross Validation. This is a simple idea. We just divide a training set into $k$ sets and train a model with $k-1$ set and get an error value with the remaining set. After we divided and used the last set to train, next thing we do is initialize a new model and train it with different combinations of $k-1$ sets and test with the one left. We do this process until there is no more combination of sets we haven't used to train model. Now we have $k$ different error values. We get the mean value of it and that will become our final performace score (or error value) of the model. Also by doing cross validation, we can check which subset of features produce high or low error and select the ones with low value.<br>\n",
    "The following is a pseudo-code of cross validation."
   ]
  },
  {
   "cell_type": "raw",
   "metadata": {
    "ExecuteTime": {
     "end_time": "2018-10-12T23:21:00.779577Z",
     "start_time": "2018-10-12T23:21:00.768370Z"
    }
   },
   "source": [
    "function(features, x, y, k)\n",
    "\n",
    "error = []\n",
    "\n",
    "  for k times\n",
    "    size_of_each_set = ceiling(length(x) / k)\n",
    "    \n",
    "    validation = x[length(x) - size :]\n",
    "    v_label = y[length(x) - size : ]\n",
    "    \n",
    "    training = x[:length(x) - size]\n",
    "    t_label = y[:length(x) - size]\n",
    "    \n",
    "    model = init\n",
    "    model.train(training, t_label)\n",
    "    \n",
    "    pred = model.predict(validation)\n",
    "    error = append(loss(v_label), pred)\n",
    "\n",
    "return mean of error"
   ]
  },
  {
   "cell_type": "markdown",
   "metadata": {},
   "source": [
    "In above code, the x is the whole training set (not the whole data) and y is the label corresponding to it."
   ]
  },
  {
   "cell_type": "markdown",
   "metadata": {},
   "source": [
    "## Coding"
   ]
  },
  {
   "cell_type": "markdown",
   "metadata": {},
   "source": [
    "We can easily do the cross validation with existing library (scikit). But since the idea is simple and implementation is also easy do, let's try implementing it on our own first, and then see how to use the library. <br>\n",
    "Again, we will use linear regression with housing price data."
   ]
  },
  {
   "cell_type": "markdown",
   "metadata": {},
   "source": [
    "### Import libraries and Load and Prep Data"
   ]
  },
  {
   "cell_type": "code",
   "execution_count": 107,
   "metadata": {
    "ExecuteTime": {
     "end_time": "2018-10-21T00:27:19.433788Z",
     "start_time": "2018-10-21T00:27:18.865855Z"
    }
   },
   "outputs": [],
   "source": [
    "import numpy as np\n",
    "import pandas as pd\n",
    "from sklearn.model_selection import train_test_split\n",
    "from sklearn.linear_model import LinearRegression"
   ]
  },
  {
   "cell_type": "code",
   "execution_count": 2,
   "metadata": {
    "ExecuteTime": {
     "end_time": "2018-10-20T23:39:14.663046Z",
     "start_time": "2018-10-20T23:39:14.520022Z"
    }
   },
   "outputs": [],
   "source": [
    "train = pd.read_csv('./data/train.csv')\n",
    "test = pd.read_csv('./data/test.csv')"
   ]
  },
  {
   "cell_type": "code",
   "execution_count": 161,
   "metadata": {
    "ExecuteTime": {
     "end_time": "2018-10-21T00:47:23.476772Z",
     "start_time": "2018-10-21T00:47:23.469813Z"
    }
   },
   "outputs": [],
   "source": [
    "X = train\n",
    "y = train.loc[:, ['SalePrice']]"
   ]
  },
  {
   "cell_type": "code",
   "execution_count": 126,
   "metadata": {
    "ExecuteTime": {
     "end_time": "2018-10-21T00:33:43.043068Z",
     "start_time": "2018-10-21T00:33:43.033069Z"
    }
   },
   "outputs": [
    {
     "name": "stderr",
     "output_type": "stream",
     "text": [
      "c:\\users\\hsong1101\\anaconda3\\envs\\tensorflow\\lib\\site-packages\\sklearn\\model_selection\\_split.py:2026: FutureWarning: From version 0.21, test_size will always complement train_size unless both are specified.\n",
      "  FutureWarning)\n"
     ]
    }
   ],
   "source": [
    "# set split size to 0.8\n",
    "X_train, y_train, X_test, y_test = train_test_split(X, y, train_size=0.8)"
   ]
  },
  {
   "cell_type": "markdown",
   "metadata": {},
   "source": [
    "Now, let's define necessary functions."
   ]
  },
  {
   "cell_type": "code",
   "execution_count": 164,
   "metadata": {
    "ExecuteTime": {
     "end_time": "2018-10-21T00:48:18.497158Z",
     "start_time": "2018-10-21T00:48:18.486194Z"
    }
   },
   "outputs": [],
   "source": [
    "# Root Mean Squared Error\n",
    "def rmse(y, y_hat):\n",
    "    return np.sqrt(np.mean((y - y_hat)**2))\n",
    "\n",
    "def get_index(x, size):\n",
    "    index = []\n",
    "    validation = []\n",
    "    r = set([i for i in range(len(x))])\n",
    "    \n",
    "    for i in range(len(x)):\n",
    "        validation.append(i)\n",
    "\n",
    "        if (i+1) % size == 0 or i == len(x)-1:\n",
    "            \n",
    "            training = list(r - set(validation))\n",
    "            index.append([np.array(training), np.array(validation)])\n",
    "            validation = []\n",
    "\n",
    "    return index\n",
    "\n",
    "def cross_validation(x, y, k=5):\n",
    "    \n",
    "    size = ceil(len(x) / k)\n",
    "    \n",
    "    # list of list of indices to split\n",
    "    index = get_index(x, size)\n",
    "    error = np.array([])\n",
    "    \n",
    "    model = LinearRegression()\n",
    "    \n",
    "    for training, validation in index:\n",
    "        \n",
    "        train = x.iloc[training]\n",
    "        test = y.iloc[training]\n",
    "        \n",
    "        val_train = x.iloc[validation]\n",
    "        val_test = y.iloc[validation]\n",
    "        \n",
    "        model.fit(train, test)\n",
    "\n",
    "        pred = model.predict(val_train)\n",
    "        \n",
    "        err = rmse(val_test, pred)\n",
    "        \n",
    "        error = np.append(err, error)\n",
    "    \n",
    "    return error.mean()\n"
   ]
  },
  {
   "cell_type": "markdown",
   "metadata": {},
   "source": [
    "Now that we have finished all the functions necessary for cross validation, let's check out a set of features to put into the model to compare each performance. <br>\n",
    "I've set five different list of features as below and using the cross validation functions we just implemented, we will see which features set produce the least amount of error."
   ]
  },
  {
   "cell_type": "code",
   "execution_count": 184,
   "metadata": {
    "ExecuteTime": {
     "end_time": "2018-10-21T00:54:23.021031Z",
     "start_time": "2018-10-21T00:54:23.015069Z"
    }
   },
   "outputs": [],
   "source": [
    "features = [['LotArea', 'YearBuilt', 'FullBath'],\n",
    "['LotArea', 'GarageArea', 'PoolArea'],\n",
    "['GarageArea', 'FullBath', 'HalfBath'],\n",
    "['LotArea', 'YearBuilt', 'GarageArea'],\n",
    "['LotArea', 'GarageArea', 'FullBath']]"
   ]
  },
  {
   "cell_type": "code",
   "execution_count": 185,
   "metadata": {
    "ExecuteTime": {
     "end_time": "2018-10-21T00:54:24.880192Z",
     "start_time": "2018-10-21T00:54:24.744191Z"
    }
   },
   "outputs": [
    {
     "data": {
      "text/plain": [
       "['GarageArea', 'FullBath', 'HalfBath']"
      ]
     },
     "execution_count": 185,
     "metadata": {},
     "output_type": "execute_result"
    }
   ],
   "source": [
    "errors = []\n",
    "best_feature_set = None\n",
    "least_error = 0\n",
    "\n",
    "for f in features:\n",
    "    errors.append(cross_validation(X[f], y))\n",
    "    \n",
    "least_error = min(errors)\n",
    "best_feature_index = errors.index(least_error)\n",
    "best_feature_set = features[best_feature_index]\n",
    "\n",
    "best_feature_set"
   ]
  },
  {
   "cell_type": "code",
   "execution_count": 191,
   "metadata": {
    "ExecuteTime": {
     "end_time": "2018-10-21T00:57:25.780956Z",
     "start_time": "2018-10-21T00:57:25.773965Z"
    }
   },
   "outputs": [
    {
     "name": "stdout",
     "output_type": "stream",
     "text": [
      "\n",
      "Features: ['LotArea', 'YearBuilt', 'FullBath'] with Loss: 60177.62086438129\n",
      "\n",
      "Features: ['LotArea', 'GarageArea', 'PoolArea'] with Loss: 61322.452532656185\n",
      "\n",
      "Features: ['GarageArea', 'FullBath', 'HalfBath'] with Loss: 54635.92474394878\n",
      "\n",
      "Features: ['LotArea', 'YearBuilt', 'GarageArea'] with Loss: 57546.42623587614\n",
      "\n",
      "Features: ['LotArea', 'GarageArea', 'FullBath'] with Loss: 55443.39583203288\n",
      "\n",
      "\n",
      "Best Features: ['GarageArea', 'FullBath', 'HalfBath']\n"
     ]
    }
   ],
   "source": [
    "for f, loss in zip(features, errors):\n",
    "    print('\\nFeatures: {} with Loss: {}'.format(f, loss))\n",
    "    \n",
    "print('\\n\\nBest Features: {}'.format(best_feature_set))"
   ]
  },
  {
   "cell_type": "markdown",
   "metadata": {},
   "source": [
    "It turns out, set of GarageAre and number of full and half baths result in the least error. With this information, we have extracted features to train and evaluate a model."
   ]
  },
  {
   "cell_type": "markdown",
   "metadata": {},
   "source": [
    "The main reason we use the validation sets is to avoid using test sets multiple times which could result in overfitting data. If we don't use it, we will keep trying to improve the model by fitting it to the testing sets, rather than general data. In every case, the testing sets should only be used once at the end of the whole process. "
   ]
  },
  {
   "cell_type": "markdown",
   "metadata": {},
   "source": [
    "Since the cross validation is simple and easy to implement, I've done so myself but there already is existing library for cross validation (from scikit) such as the KFold in the following."
   ]
  },
  {
   "cell_type": "code",
   "execution_count": 192,
   "metadata": {
    "ExecuteTime": {
     "end_time": "2018-10-21T01:06:12.507434Z",
     "start_time": "2018-10-21T01:06:12.501436Z"
    }
   },
   "outputs": [],
   "source": [
    "from sklearn.model_selection import KFold"
   ]
  },
  {
   "cell_type": "markdown",
   "metadata": {},
   "source": [
    "What it does is to replace the get_index function we created. It can be substituted just like the next."
   ]
  },
  {
   "cell_type": "code",
   "execution_count": 193,
   "metadata": {
    "ExecuteTime": {
     "end_time": "2018-10-21T01:09:06.676974Z",
     "start_time": "2018-10-21T01:09:06.668983Z"
    }
   },
   "outputs": [],
   "source": [
    "def cross_validation(x, y, k=5):\n",
    "    \n",
    "    size = ceil(len(x) / k)\n",
    "    \n",
    "    # n_splits is the number to split the data\n",
    "    kf = KFold(n_splits=5)\n",
    "    \n",
    "    error = np.array([])\n",
    "    \n",
    "    model = LinearRegression()\n",
    "    \n",
    "    # we should put data in kf.split and it would return the training and validation indices just as we created.\n",
    "    for training, validation in kf.split(x):\n",
    "        \n",
    "        train = x.iloc[training]\n",
    "        test = y.iloc[training]\n",
    "        \n",
    "        val_train = x.iloc[validation]\n",
    "        val_test = y.iloc[validation]\n",
    "        \n",
    "        model.fit(train, test)\n",
    "\n",
    "        pred = model.predict(val_train)\n",
    "        \n",
    "        err = rmse(val_test, pred)\n",
    "        \n",
    "        error = np.append(err, error)\n",
    "    \n",
    "    return error.mean()"
   ]
  },
  {
   "cell_type": "markdown",
   "metadata": {},
   "source": [
    "## Ending "
   ]
  },
  {
   "cell_type": "markdown",
   "metadata": {},
   "source": [
    "As I've mentioned above already, it is very important to use the testing set only at the last step to check overall performance of a model or else it could fall into the overfitting."
   ]
  },
  {
   "cell_type": "markdown",
   "metadata": {},
   "source": [
    "We could use cross validation to see which combinations of features could produce better performance than others and which ones are worse. Doing so, we can eliminate any feature whose absence doesn't impact much on the model to reduce the dimensionality of data. Also we can try out different hyperparameter values with the best feature sets to further improve the model. "
   ]
  },
  {
   "cell_type": "markdown",
   "metadata": {},
   "source": [
    "Thanks again for reading!"
   ]
  }
 ],
 "metadata": {
  "kernelspec": {
   "display_name": "Python 3",
   "language": "python",
   "name": "python3"
  },
  "language_info": {
   "codemirror_mode": {
    "name": "ipython",
    "version": 3
   },
   "file_extension": ".py",
   "mimetype": "text/x-python",
   "name": "python",
   "nbconvert_exporter": "python",
   "pygments_lexer": "ipython3",
   "version": "3.5.5"
  }
 },
 "nbformat": 4,
 "nbformat_minor": 2
}
