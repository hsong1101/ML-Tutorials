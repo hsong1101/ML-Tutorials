{
 "cells": [
  {
   "cell_type": "markdown",
   "metadata": {},
   "source": [
    "# Intro"
   ]
  },
  {
   "cell_type": "markdown",
   "metadata": {},
   "source": [
    "In simple words, gradient descent is to find proper weights and biases that have the lowest possible error values. As seen in linear regression post, when fitting a line among given random points, our goal was to minimize the mean squared errors. We started off with weights and bias of 0 and updated little by little. These steps to reach to the point is gradient descent. <br>\n",
    "Let's use an example of climbing down a mountain from the top of it. We would like to get to the ground but we have no idea which path among many leads to where we want to go. Instead of guessing and picking one randomly, as we step forward we check which ones are going down, up and flat and only proceed if it goes down. Sometimes a path goes up and down, then leads to the ground (which is one with many local minimums) but in this post, we will assume that there is only one path that leads to the ground and no paths go up and down. <br>\n",
    "Without carefully choosing which direction to go from the top, we have no idea how to get down to the ground.<br>\n",
    "We will use linear regression again, to illustrate how to step forward."
   ]
  },
  {
   "cell_type": "markdown",
   "metadata": {},
   "source": [
    "# Concepts"
   ]
  },
  {
   "cell_type": "markdown",
   "metadata": {},
   "source": [
    "## Load Libraries"
   ]
  },
  {
   "cell_type": "code",
   "execution_count": 1,
   "metadata": {
    "ExecuteTime": {
     "end_time": "2018-09-15T22:59:26.318672Z",
     "start_time": "2018-09-15T22:59:25.080573Z"
    }
   },
   "outputs": [],
   "source": [
    "import numpy as np\n",
    "import pandas as pd\n",
    "import matplotlib.pyplot as plt"
   ]
  },
  {
   "cell_type": "markdown",
   "metadata": {},
   "source": [
    "Let's randomly generate x values and set y values in range (1, 10)<br>\n",
    "As you may follow this, the graph will look different since it is random number."
   ]
  },
  {
   "cell_type": "code",
   "execution_count": 2,
   "metadata": {
    "ExecuteTime": {
     "end_time": "2018-09-15T22:59:26.333257Z",
     "start_time": "2018-09-15T22:59:26.324724Z"
    }
   },
   "outputs": [],
   "source": [
    "x = np.random.randint(10, size=10)\n",
    "y = np.arange(1, 11)"
   ]
  },
  {
   "cell_type": "code",
   "execution_count": 3,
   "metadata": {
    "ExecuteTime": {
     "end_time": "2018-09-15T22:59:26.612806Z",
     "start_time": "2018-09-15T22:59:26.342725Z"
    }
   },
   "outputs": [
    {
     "data": {
      "text/plain": [
       "<matplotlib.collections.PathCollection at 0x2677cfc8198>"
      ]
     },
     "execution_count": 3,
     "metadata": {},
     "output_type": "execute_result"
    },
    {
     "data": {
      "image/png": "[encoded data removed]",
      "text/plain": [
       "<Figure size 432x432 with 1 Axes>"
      ]
     },
     "metadata": {},
     "output_type": "display_data"
    }
   ],
   "source": [
    "plt.figure(figsize=(6,6))\n",
    "plt.scatter(x, y)"
   ]
  },
  {
   "cell_type": "markdown",
   "metadata": {},
   "source": [
    "In common practice, we set the bias and the slope for a line to start with 0 values that if we also put it on the graph, it looks like the following graph."
   ]
  },
  {
   "cell_type": "code",
   "execution_count": 4,
   "metadata": {
    "ExecuteTime": {
     "end_time": "2018-09-15T22:59:26.816717Z",
     "start_time": "2018-09-15T22:59:26.620716Z"
    }
   },
   "outputs": [
    {
     "data": {
      "image/png": "[encoded data removed]",
      "text/plain": [
       "<Figure size 432x432 with 1 Axes>"
      ]
     },
     "metadata": {},
     "output_type": "display_data"
    }
   ],
   "source": [
    "plt.figure(figsize=(6,6))\n",
    "plt.scatter(x, y)\n",
    "m, b = np.zeros(1), np.zeros(1)\n",
    "plt.plot(x, x*m+b, color='r')\n",
    "plt.show()"
   ]
  },
  {
   "cell_type": "markdown",
   "metadata": {},
   "source": [
    "For now, our predicted value for each $y_i$ is all 0. We will use MSE function from sklearn. With this, next step is to find the error value."
   ]
  },
  {
   "cell_type": "code",
   "execution_count": 5,
   "metadata": {
    "ExecuteTime": {
     "end_time": "2018-09-15T22:59:27.656757Z",
     "start_time": "2018-09-15T22:59:26.822403Z"
    }
   },
   "outputs": [],
   "source": [
    "from sklearn.metrics import mean_squared_error"
   ]
  },
  {
   "cell_type": "code",
   "execution_count": 6,
   "metadata": {
    "ExecuteTime": {
     "end_time": "2018-09-15T22:59:27.683727Z",
     "start_time": "2018-09-15T22:59:27.661877Z"
    }
   },
   "outputs": [
    {
     "name": "stdout",
     "output_type": "stream",
     "text": [
      "MSE : 38.0\n"
     ]
    }
   ],
   "source": [
    "print('MSE : {}'.format(np.round(mean_squared_error(y, x*m + b)), 3))"
   ]
  },
  {
   "cell_type": "markdown",
   "metadata": {},
   "source": [
    "Let's try assigning different values for m(slope) and look at a graph of error values."
   ]
  },
  {
   "cell_type": "code",
   "execution_count": 7,
   "metadata": {
    "ExecuteTime": {
     "end_time": "2018-09-15T22:59:27.730721Z",
     "start_time": "2018-09-15T22:59:27.690717Z"
    }
   },
   "outputs": [],
   "source": [
    "def diff_weight():\n",
    "    mse = []\n",
    "    for m in range(-5, 5):\n",
    "        mse.append(np.round(mean_squared_error(y, x*m), 3))\n",
    "    \n",
    "    plt.figure(figsize=(6,6))\n",
    "    plt.scatter(np.arange(1,11), mse)\n",
    "    plt.plot(np.arange(1,11), mse)\n",
    "    return np.array(mse)\n",
    "    "
   ]
  },
  {
   "cell_type": "code",
   "execution_count": 8,
   "metadata": {
    "ExecuteTime": {
     "end_time": "2018-09-15T22:59:27.999727Z",
     "start_time": "2018-09-15T22:59:27.737997Z"
    },
    "scrolled": true
   },
   "outputs": [
    {
     "data": {
      "image/png": "[encoded data removed]",
      "text/plain": [
       "<Figure size 432x432 with 1 Axes>"
      ]
     },
     "metadata": {},
     "output_type": "display_data"
    }
   ],
   "source": [
    "mse = diff_weight()"
   ]
  },
  {
   "cell_type": "markdown",
   "metadata": {},
   "source": [
    "As we can see here the error starts from a high value and moves to the right, decreasing in its MSE. However, once it reaches a certain point, it began to increase. We call this minimum point as global minimum. Our goal is to find this global minimum point so that our MSE value is as low as possible. As mentioned in the beginning of the post, findind this point from the starting point is gradient descent since we are climbing down the error curve. "
   ]
  },
  {
   "cell_type": "markdown",
   "metadata": {},
   "source": [
    "We can see it from just looking at the graph but without it, it is hard to tell which direction we should move when we climb down since the starting point can be either on the left or the right side of the minimum. To get the idea of which direction, we use derivative of the error function.$$mse = \\frac{1}{N}\\sum_{i=1}^N(y_i - (mx_i + b))^2$$\n",
    "$$m = \\frac{-2}{N}\\sum_{i=1}^N(y_i - (mx_i + b))x$$\n",
    "$$b = \\frac{-2}{N}\\sum_{i=1}^N(y_i - (mx_i + b))$$"
   ]
  },
  {
   "cell_type": "markdown",
   "metadata": {},
   "source": [
    "The first is the formula for the error function and the next two are its derivative value respect to m and b.<br>\n",
    "With these formula, we can get the slope of the function that we can decide in which direction to go. The code is as follows."
   ]
  },
  {
   "cell_type": "markdown",
   "metadata": {},
   "source": [
    "By setting some arbitrary value for learning rate, we can now update our next point to move on as the next statement. $$x = x - slope * a$$\n",
    "Since we are moving little by little to avoid getting away from the global minimum, we should iterate until we reach the point. The code is as follows."
   ]
  },
  {
   "cell_type": "code",
   "execution_count": 9,
   "metadata": {
    "ExecuteTime": {
     "end_time": "2018-09-15T22:59:28.017775Z",
     "start_time": "2018-09-15T22:59:28.007719Z"
    }
   },
   "outputs": [],
   "source": [
    "def grad_m(m, x, y, b):\n",
    "    return -2 * np.mean(x * (y - (x * m + b)))\n",
    "\n",
    "def grad_b(m, x, y, b):\n",
    "    return -2 * np.mean(y - (x * m + b))"
   ]
  },
  {
   "cell_type": "markdown",
   "metadata": {},
   "source": [
    "We can now implement our gradient descent function to get appropriate m and b."
   ]
  },
  {
   "cell_type": "code",
   "execution_count": 10,
   "metadata": {
    "ExecuteTime": {
     "end_time": "2018-09-15T22:59:28.043718Z",
     "start_time": "2018-09-15T22:59:28.025255Z"
    }
   },
   "outputs": [],
   "source": [
    "def gradient_descent(x, y):\n",
    "    m, b = 0, 0\n",
    "    \n",
    "    while True:\n",
    "        \n",
    "        m -= grad_m(m, x, y, b)\n",
    "        b -= grad_b(m, x, y, b)\n",
    "        \n",
    "        if m == 0 or b == 0:\n",
    "            return m, b"
   ]
  },
  {
   "cell_type": "markdown",
   "metadata": {},
   "source": [
    "But this implementation has its problems. <br>\n",
    "First, we are updating the values by substracting the previous value by the new value.<br>\n",
    "Second, we are iterating until either m or b reaches 0 which means we are looping until one of them reaches a point where its slope value is 0."
   ]
  },
  {
   "cell_type": "markdown",
   "metadata": {},
   "source": [
    "Let's look at a graph of simple quadratic function($y=x^2$) below. Let's assume that we are at (-2, 4) (red dot) and its slope is -4. The above code updates our new m (or b) in a way that it just moves the current point by the value of the slope. <br>\n",
    "Our current m is -2 and the slope is -4. If we do m = -2 - (-4), we would get new m value of 2 which is just the opposite side of the graph, only changed in its direction while having slope. Because of this reason, at each iteration, we should carefully choose how much step we would like to move to the desired direction. For this, we need a variable named 'learning_rate' or $\\alpha$.<br>\n",
    "In an analogy from above again that from the top of a mountain, we don't want to rush down to a path when we are not sure if that direction is a correct way to go even if it 'looks' it goes down."
   ]
  },
  {
   "cell_type": "markdown",
   "metadata": {},
   "source": [
    "This learning rate can be any value but usually much less than 1(which is the case above)."
   ]
  },
  {
   "cell_type": "markdown",
   "metadata": {},
   "source": [
    "But by using learning rate, this raises a problem if while loop is used. We don't know how many iterations it would take to reach the minimum point. As our data becomes large and more variables are introduced, we cannot guarantee how many iteration it would take that we don't know when we could get it. This is why we preset the number of iteration when doing gradient descent. Its value can any number of positive integer. "
   ]
  },
  {
   "cell_type": "markdown",
   "metadata": {},
   "source": [
    "With this change, we can update our function."
   ]
  },
  {
   "cell_type": "code",
   "execution_count": 11,
   "metadata": {
    "ExecuteTime": {
     "end_time": "2018-09-15T22:59:28.069732Z",
     "start_time": "2018-09-15T22:59:28.048717Z"
    }
   },
   "outputs": [],
   "source": [
    "def gradient_descent(x, y, learning_rate=0.01, num_iter=500):\n",
    "    m, b = 0, 0\n",
    "    \n",
    "    for _ in range(num_iter):\n",
    "        \n",
    "        dm = grad_m(m, x, y, b)\n",
    "        db = grad_b(m, x, y, b)\n",
    "        \n",
    "        m -= dm * learning_rate\n",
    "        b -= db * learning_rate\n",
    "        \n",
    "    return m,b"
   ]
  },
  {
   "cell_type": "markdown",
   "metadata": {},
   "source": [
    "Simple as above!<br>\n",
    "dm and db means the change in m and b (d means delta $\\Delta$ or 'change in'). "
   ]
  },
  {
   "cell_type": "markdown",
   "metadata": {},
   "source": [
    "I'm going to add some other statements to get mse values at certain number of iterations."
   ]
  },
  {
   "cell_type": "code",
   "execution_count": 12,
   "metadata": {
    "ExecuteTime": {
     "end_time": "2018-09-15T22:59:28.093717Z",
     "start_time": "2018-09-15T22:59:28.074840Z"
    }
   },
   "outputs": [],
   "source": [
    "def gradient_descent(x, y, learning_rate=0.01, iter_num=500):\n",
    "    \n",
    "    m = 0\n",
    "    b = 0\n",
    "    \n",
    "    mse = np.array([])\n",
    "    \n",
    "    for i in range(iter_num):\n",
    "        \n",
    "        db = grad_b(m, x, y, b)\n",
    "        dm = grad_m(m, x, y, b)\n",
    "        \n",
    "        b -= db * learning_rate\n",
    "        m -= dm * learning_rate\n",
    "\n",
    "        if i % 20 == 0:\n",
    "            error = mean_squared_error(y, x*m + b)\n",
    "            mse = np.append(mse, [error])\n",
    "    \n",
    "    return np.round(m,3), np.round(b,3), mse"
   ]
  },
  {
   "cell_type": "markdown",
   "metadata": {},
   "source": [
    "Using the same x, y defined and new gradient function, we can now get new m and b values and see in in a graph."
   ]
  },
  {
   "cell_type": "code",
   "execution_count": 13,
   "metadata": {
    "ExecuteTime": {
     "end_time": "2018-09-15T22:59:28.164721Z",
     "start_time": "2018-09-15T22:59:28.099717Z"
    }
   },
   "outputs": [],
   "source": [
    "m, b, mse = gradient_descent(x, y)"
   ]
  },
  {
   "cell_type": "code",
   "execution_count": 14,
   "metadata": {
    "ExecuteTime": {
     "end_time": "2018-09-15T22:59:28.450745Z",
     "start_time": "2018-09-15T22:59:28.170538Z"
    }
   },
   "outputs": [
    {
     "data": {
      "image/png": "[encoded data removed]",
      "text/plain": [
       "<Figure size 432x432 with 1 Axes>"
      ]
     },
     "metadata": {},
     "output_type": "display_data"
    }
   ],
   "source": [
    "plt.figure(figsize=(6,6))\n",
    "plt.xlim(-1, 11)\n",
    "plt.ylim(-1, 11)\n",
    "plt.scatter(x, y)\n",
    "plt.plot(x, (m*x+b), c='r')\n",
    "plt.show()"
   ]
  },
  {
   "cell_type": "markdown",
   "metadata": {},
   "source": [
    "The line seems about right!<br>\n",
    "By the mse values returned by the function, we can also check out how error values change over each iteration."
   ]
  },
  {
   "cell_type": "code",
   "execution_count": 15,
   "metadata": {
    "ExecuteTime": {
     "end_time": "2018-09-15T22:59:28.881721Z",
     "start_time": "2018-09-15T22:59:28.455721Z"
    }
   },
   "outputs": [
    {
     "data": {
      "image/png": "[encoded data removed]",
      "text/plain": [
       "<Figure size 432x432 with 1 Axes>"
      ]
     },
     "metadata": {},
     "output_type": "display_data"
    }
   ],
   "source": [
    "plt.figure(figsize=(6,6))\n",
    "plt.scatter(np.arange(0,len(mse)), mse)\n",
    "plt.ylabel('MSE')\n",
    "plt.xlabel('Iter # (1 = 25)')\n",
    "plt.xlim(0,len(mse)+1)\n",
    "plt.ylim(0, 40)\n",
    "plt.xticks(np.arange(-1, len(mse)+1))\n",
    "plt.title('MSE value over time')\n",
    "plt.show()"
   ]
  },
  {
   "cell_type": "markdown",
   "metadata": {},
   "source": [
    "As you can see, MSE decreases over each iteration and stop going down once it hits the minimum point. <br>\n",
    "What we'll do next is how much can different values of learning rate can affect MSE."
   ]
  },
  {
   "cell_type": "code",
   "execution_count": 16,
   "metadata": {
    "ExecuteTime": {
     "end_time": "2018-09-15T22:59:30.170071Z",
     "start_time": "2018-09-15T22:59:28.891748Z"
    }
   },
   "outputs": [
    {
     "name": "stderr",
     "output_type": "stream",
     "text": [
      "c:\\users\\hsong1101\\anaconda3\\envs\\tensorflow\\lib\\site-packages\\sklearn\\metrics\\regression.py:239: RuntimeWarning: overflow encountered in square\n",
      "  output_errors = np.average((y_true - y_pred) ** 2, axis=0,\n"
     ]
    },
    {
     "data": {
      "image/png": "[encoded data removed]",
      "text/plain": [
       "<Figure size 1440x576 with 5 Axes>"
      ]
     },
     "metadata": {},
     "output_type": "display_data"
    }
   ],
   "source": [
    "plt.figure(figsize=(20,8))\n",
    "\n",
    "learning_rate = [0.1, 0.01, 0.001, 0.0001, 0.00001]\n",
    "\n",
    "for i in range(len(learning_rate)):\n",
    "    plt.subplot(1, len(learning_rate), i+1)\n",
    "    plt.title('learning rate of {}'.format(learning_rate[i]))\n",
    "    plt.suptitle('Different Value of Learning Rate')\n",
    "    \n",
    "    m, b, mse = gradient_descent(x, y, learning_rate=learning_rate[i])\n",
    "    plt.scatter(np.arange(0,len(mse)), mse)\n",
    "    plt.ylabel('MSE')\n",
    "    plt.xlabel('Iter # (1 = 25)')\n",
    "    plt.xlim(-1,20)\n",
    "    plt.ylim(0, 40)\n"
   ]
  },
  {
   "cell_type": "markdown",
   "metadata": {},
   "source": [
    "As you can see, when the learning rate is 0.1, there are no dots in the graph because it is too high that at each iteration, it just gets further from the minimum point. But from 0.01, we can actually see the values get decreasing. <br>\n",
    "As the learning rate gets smaller, the curve becomes more straight that reaching the minimum point becomes slower too and hence, takes more iterations and time. This is why it is important to set an appropriate value for learning rate and number of iterations. This is one of feature-engineering. In this example, we tried putting different values for the rate to find a proper one and this technique is called Grid Search (which to be discussed later)."
   ]
  }
 ],
 "metadata": {
  "kernelspec": {
   "display_name": "Python 3",
   "language": "python",
   "name": "python3"
  },
  "language_info": {
   "codemirror_mode": {
    "name": "ipython",
    "version": 3
   },
   "file_extension": ".py",
   "mimetype": "text/x-python",
   "name": "python",
   "nbconvert_exporter": "python",
   "pygments_lexer": "ipython3",
   "version": "3.5.5"
  }
 },
 "nbformat": 4,
 "nbformat_minor": 2
}
