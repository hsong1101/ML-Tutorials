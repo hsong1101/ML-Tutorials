{
 "cells": [
  {
   "cell_type": "markdown",
   "metadata": {},
   "source": [
    "# What is Gradient Descent?"
   ]
  },
  {
   "cell_type": "markdown",
   "metadata": {},
   "source": [
    "Gradient descent is one of basic but very important machine learning techniques to find the best optimum values, among possible ones, of weights such that it minimizes total loss values."
   ]
  },
  {
   "cell_type": "markdown",
   "metadata": {},
   "source": [
    "When we define a model such as SVM, Linear Regression or Decision Tree Classifier, we have to have some sort of a way to know if our model is being trained well or not. And to know that, we use loss function which computes the difference between true values, usually noted as $y$ value, and predicted values, $\\hat y$."
   ]
  },
  {
   "cell_type": "markdown",
   "metadata": {},
   "source": [
    "One simple loss function can be MSE whose equation is\n",
    "$$\n",
    "L = \\frac{1}{N}\\sum_{i=1}^N(y_i - \\hat y_i)^2 = \\frac{1}{N}\\sum_{i=1}^N(y_i - (x_iw + b))^2\n",
    "$$ "
   ]
  },
  {
   "cell_type": "markdown",
   "metadata": {},
   "source": [
    "When we first initialize a model, usually its weights are generated randomly and every time we train, we update them in a way that in the next training step, it lowers the loss value."
   ]
  },
  {
   "cell_type": "markdown",
   "metadata": {},
   "source": [
    "This process until it no more lowers the loss is called gradient descent."
   ]
  },
  {
   "cell_type": "markdown",
   "metadata": {},
   "source": [
    "# Codes & Explanation"
   ]
  },
  {
   "cell_type": "code",
   "execution_count": 1,
   "metadata": {
    "ExecuteTime": {
     "end_time": "2019-05-30T06:08:47.491081Z",
     "start_time": "2019-05-30T06:08:45.986295Z"
    }
   },
   "outputs": [],
   "source": [
    "import numpy as np\n",
    "import pandas as pd\n",
    "import matplotlib.pyplot as plt"
   ]
  },
  {
   "cell_type": "markdown",
   "metadata": {},
   "source": [
    "Let's randomly generate x values and set y values in range (1, 10)<br>\n",
    "As you may follow this, generated data will look different since it is random."
   ]
  },
  {
   "cell_type": "code",
   "execution_count": 2,
   "metadata": {
    "ExecuteTime": {
     "end_time": "2019-05-30T06:08:47.502478Z",
     "start_time": "2019-05-30T06:08:47.495050Z"
    }
   },
   "outputs": [],
   "source": [
    "x = np.linspace(0, 10, 100)\n",
    "y = np.random.random(100) + x + 3"
   ]
  },
  {
   "cell_type": "markdown",
   "metadata": {},
   "source": [
    "![random points](plots/random_points.png)"
   ]
  },
  {
   "cell_type": "markdown",
   "metadata": {},
   "source": [
    "If we try to find a line that has the lowest loss values (or fits the data), it would be something like this."
   ]
  },
  {
   "cell_type": "markdown",
   "metadata": {},
   "source": [
    "![random points fit](plots/random_points_fit.png)"
   ]
  },
  {
   "cell_type": "markdown",
   "metadata": {},
   "source": [
    "The red line was not the best line as it was manually done."
   ]
  },
  {
   "cell_type": "markdown",
   "metadata": {},
   "source": [
    "So to find the best line, let's start from 0 for both weights and bias (But in practice, weights are also initialized randomly)."
   ]
  },
  {
   "cell_type": "code",
   "execution_count": 3,
   "metadata": {
    "ExecuteTime": {
     "end_time": "2019-05-30T06:08:47.530503Z",
     "start_time": "2019-05-30T06:08:47.509420Z"
    }
   },
   "outputs": [],
   "source": [
    "w = b = 0"
   ]
  },
  {
   "cell_type": "markdown",
   "metadata": {},
   "source": [
    "This weight and bias will look like this."
   ]
  },
  {
   "cell_type": "markdown",
   "metadata": {},
   "source": [
    "![random points fit line](plots/random_points_start.png)"
   ]
  },
  {
   "cell_type": "markdown",
   "metadata": {},
   "source": [
    "And let's use the same loss function mentioned above."
   ]
  },
  {
   "cell_type": "markdown",
   "metadata": {},
   "source": [
    "To compute the gradient descent, we need partial derivatives with respect to weights and bias (if there is). The followings are corresponding equations."
   ]
  },
  {
   "cell_type": "markdown",
   "metadata": {},
   "source": [
    "$$MSE = \\frac{1}{N}\\sum_{i=1}^N(y_i - (x_iw + b))^2$$ \n",
    "$$\\frac{\\partial MSE}{\\partial w} = \\frac{-2}{N}\\sum_{i=1}^N(y_i - (x_iw + b))x_i$$\n",
    "$$\\frac{\\partial MSE}{\\partial b} = \\frac{-2}{N}\\sum_{i=1}^N(y_i - (x_iw + b))$$"
   ]
  },
  {
   "cell_type": "markdown",
   "metadata": {},
   "source": [
    "## Convex problem (brief overview)"
   ]
  },
  {
   "cell_type": "markdown",
   "metadata": {},
   "source": [
    "Before proceeding further, let me go how we get to obtain an optimal weights (and bias)."
   ]
  },
  {
   "cell_type": "markdown",
   "metadata": {},
   "source": [
    "In a perfect world where there always exists only one optimum, our loss values might look like this."
   ]
  },
  {
   "cell_type": "markdown",
   "metadata": {},
   "source": [
    "![convex loss](plots/convex_loss.png) "
   ]
  },
  {
   "cell_type": "markdown",
   "metadata": {},
   "source": [
    "We can see that at first, the loss is big and as it progresses, it moves toward 0 but after that it increases back. Cases such as above where there only exists one curve is called convex problem and in such cases, we are guaranteed to reach the optimal value."
   ]
  },
  {
   "cell_type": "markdown",
   "metadata": {},
   "source": [
    "It does not matter if the loss can actually get to 0 or not because even then, it achieves best possible minimum. "
   ]
  },
  {
   "cell_type": "markdown",
   "metadata": {},
   "source": [
    "So how do we get there? If you have taken calculus, you know that at each point of a line there exists a tangent line (or multiple in some cases). With those tangent lines and its derivatives, we gain information on which direction we should go to reach the lowest point."
   ]
  },
  {
   "cell_type": "markdown",
   "metadata": {},
   "source": [
    "Whether the problem is convex or not, we can always reach an optimum (it could be global or local, depending on convexity of problems). Those optimal points have the derivative of 0 (horizontal line at a point)."
   ]
  },
  {
   "cell_type": "markdown",
   "metadata": {},
   "source": [
    "With the above graph, we see that at point of 0 we have the horizontal line and that's where we would like to be."
   ]
  },
  {
   "cell_type": "markdown",
   "metadata": {},
   "source": [
    "So when problems are not convex, meaning there exists many points with derivative of 0's, we are not guaranteed to reach the global optimum but most likely a local one. These cases will be covered in another post."
   ]
  },
  {
   "cell_type": "markdown",
   "metadata": {},
   "source": [
    "## Gradient Descent Implementation"
   ]
  },
  {
   "cell_type": "markdown",
   "metadata": {},
   "source": [
    "The code for the partial derivatives and MSE are defined next."
   ]
  },
  {
   "cell_type": "code",
   "execution_count": 4,
   "metadata": {
    "ExecuteTime": {
     "end_time": "2019-05-30T06:08:47.565008Z",
     "start_time": "2019-05-30T06:08:47.538048Z"
    }
   },
   "outputs": [],
   "source": [
    "# Loss function\n",
    "def mse(y, x, w, b):\n",
    "    \n",
    "    return np.mean((y - (x * w + b))**2)\n",
    "\n",
    "# Partial Derivative with respect to w\n",
    "def partial_w(y, x, w, b):\n",
    "    \n",
    "    return -2 * np.mean((y - (x * w + b)) * x)\n",
    "\n",
    "# Partial Derivative with respect to b\n",
    "def partial_b(y, x, w, b):\n",
    "    \n",
    "    return -2 * np.mean(y - (x * w + b))"
   ]
  },
  {
   "cell_type": "markdown",
   "metadata": {},
   "source": [
    "Since we are using MSE which is a convex function, we know we can get to the global optimum following code."
   ]
  },
  {
   "cell_type": "code",
   "execution_count": 5,
   "metadata": {
    "ExecuteTime": {
     "end_time": "2019-05-30T06:08:47.860053Z",
     "start_time": "2019-05-30T06:08:47.575523Z"
    },
    "scrolled": true
   },
   "outputs": [
    {
     "name": "stdout",
     "output_type": "stream",
     "text": [
      "Loss : 10.555032679051148\n",
      "Loss : 2.310796035090503\n",
      "Loss : 1.9087972406483862\n",
      "Loss : 1.5793568720457842\n",
      "Loss : 1.3093785587634366\n",
      "Loss : 1.0881297483885783\n",
      "Loss : 0.9068150513036444\n",
      "Loss : 0.7582265941575854\n",
      "Loss : 0.6364574824859369\n",
      "Loss : 0.5366669816482634\n",
      "Loss : 0.4548880812298567\n",
      "Loss : 0.3878697929408484\n",
      "Loss : 0.3329479128200721\n",
      "Loss : 0.28793911010352097\n",
      "Loss : 0.2510541324311872\n",
      "Loss : 0.22082667700526815\n",
      "Loss : 0.19605510008734917\n",
      "Loss : 0.17575464758964404\n",
      "Loss : 0.1591183077644841\n",
      "Loss : 0.14548472975387144\n",
      "Loss : 0.13431193265277144\n",
      "Loss : 0.1251557599323617\n",
      "Loss : 0.11765222271358215\n",
      "Loss : 0.11150302997630385\n",
      "Loss : 0.10646373048091924\n",
      "Loss : 0.10233399500357193\n",
      "Loss : 0.09894965257096182\n",
      "Loss : 0.09617616410808294\n",
      "Loss : 0.09390327405428577\n",
      "Loss : 0.09204062733128923\n",
      "Loss : 0.0905141774227714\n",
      "Loss : 0.08926324277453858\n",
      "Loss : 0.08823809449720738\n",
      "Loss : 0.08739797947441223\n",
      "Loss : 0.086709500288393\n",
      "Loss : 0.08614528755951621\n",
      "Loss : 0.08568291192072999\n",
      "Loss : 0.08530399237425228\n",
      "Loss : 0.08499346558464933\n",
      "Loss : 0.08473898706023052\n",
      "Loss : 0.08453044041769076\n",
      "Loss : 0.084359535221608\n",
      "Loss : 0.0842194774115547\n",
      "Loss : 0.08410469921518313\n",
      "Loss : 0.08401063781041529\n",
      "Loss : 0.08393355393781071\n",
      "Loss : 0.08387038325233774\n",
      "Loss : 0.08381861450527982\n",
      "Loss : 0.0837761897135923\n",
      "Loss : 0.0837414223481059\n"
     ]
    }
   ],
   "source": [
    "w = b = 0\n",
    "\n",
    "learning_rate = 1e-2\n",
    "\n",
    "loss = []\n",
    "\n",
    "for i in range(1000):\n",
    "\n",
    "    dw = partial_w(y, x, w, b)\n",
    "    db = partial_b(y, x, w, b)\n",
    "\n",
    "    w = w - dw * learning_rate\n",
    "    b = b - db * learning_rate\n",
    "    \n",
    "    if i % 20 == 0:\n",
    "        \n",
    "        l = mse(y, x, w, b)\n",
    "        \n",
    "        print('Loss :', l)\n",
    "        \n",
    "        loss.append(l)"
   ]
  },
  {
   "cell_type": "markdown",
   "metadata": {},
   "source": [
    "![random points gd](plots/random_points_gd.png) "
   ]
  },
  {
   "cell_type": "code",
   "execution_count": 6,
   "metadata": {
    "ExecuteTime": {
     "end_time": "2019-05-30T06:08:47.890261Z",
     "start_time": "2019-05-30T06:08:47.869471Z"
    }
   },
   "outputs": [
    {
     "data": {
      "text/plain": [
       "(1.0028761687323586, 3.49054178136775)"
      ]
     },
     "execution_count": 6,
     "metadata": {},
     "output_type": "execute_result"
    }
   ],
   "source": [
    "w, b"
   ]
  },
  {
   "cell_type": "markdown",
   "metadata": {},
   "source": [
    "We can see that the best w is around 1.011 and b is 3.413."
   ]
  },
  {
   "cell_type": "markdown",
   "metadata": {},
   "source": [
    "## Experiments with Learning Rates"
   ]
  },
  {
   "cell_type": "markdown",
   "metadata": {},
   "source": [
    "One very important thing in gradient descent is to choose an appropriate learning rate. Learning rate is how much we move towards the optimum value. Setting it too high will cause not being able to reach the optimal because it bounces off too much, while setting it too low will make it slow."
   ]
  },
  {
   "cell_type": "markdown",
   "metadata": {},
   "source": [
    "Let's look at an example of setting a high learning rate."
   ]
  },
  {
   "cell_type": "markdown",
   "metadata": {},
   "source": [
    "![gradient descent example](plots/gd_example1.png)"
   ]
  },
  {
   "cell_type": "markdown",
   "metadata": {},
   "source": [
    "The above is the graph of $f(x) = x^2$ and our current w is -4. To get to the optimum, we have to move to the right by 4. With the derivative of the function and the learning rate of 2, we will have the new weight of \n",
    "$$w = w - lr * dw = -4 - 2 * (-8) = 12$$"
   ]
  },
  {
   "cell_type": "markdown",
   "metadata": {},
   "source": [
    "![gradient example 2](plots/gd_example2.png)"
   ]
  },
  {
   "cell_type": "markdown",
   "metadata": {},
   "source": [
    "We can see that the red dot is now much further away from the starting point!"
   ]
  },
  {
   "cell_type": "markdown",
   "metadata": {},
   "source": [
    "Now we if use too low learning rate such as 0.00001, from w of -4 will be $$w = w - lr*dw = -4 - 0.00001*(-8) = -3.99992$$"
   ]
  },
  {
   "cell_type": "markdown",
   "metadata": {},
   "source": [
    "![gradient example 3](plots/gd_example3.png)"
   ]
  },
  {
   "cell_type": "markdown",
   "metadata": {},
   "source": [
    "It didn't progress much that it seems as though it did nothing at all."
   ]
  },
  {
   "cell_type": "markdown",
   "metadata": {},
   "source": [
    "For such, when we try to find the best weights we have to try many different learning rates and use the best one."
   ]
  },
  {
   "cell_type": "markdown",
   "metadata": {},
   "source": [
    "The following 6 graphs are plots of losses on diffrent learning rates on the same data we used above."
   ]
  },
  {
   "cell_type": "markdown",
   "metadata": {},
   "source": [
    "![different learning rates](plots/diff_lr.png)"
   ]
  },
  {
   "cell_type": "markdown",
   "metadata": {},
   "source": [
    "The first two learning rates are set too high that the final loss is too high. The next two losses seem fine but we can see that using the learning rate of 0.001 works better (converges faster) than 0.01. The last two seem to be working as well but it converges too slow that we don't want to use or train for a longer period."
   ]
  },
  {
   "cell_type": "markdown",
   "metadata": {},
   "source": [
    "# Conclusion"
   ]
  },
  {
   "cell_type": "markdown",
   "metadata": {},
   "source": [
    "We've covered what gradient descent is and how setting a different value for learning rates affects the speed of convergence of it. Gradient descent is very important concept in all of machine learning, from supervised and unsupervised to deep learning, and without understanding how it works, a model made might not be able to work well."
   ]
  },
  {
   "cell_type": "markdown",
   "metadata": {},
   "source": [
    "Thank you again for reading the post and if you have seen any typos or mistakes or have any other suggestions, please let me know."
   ]
  },
  {
   "cell_type": "markdown",
   "metadata": {},
   "source": [
    "You can find the full code at [this link]()"
   ]
  }
 ],
 "metadata": {
  "kernelspec": {
   "display_name": "Python 3",
   "language": "python",
   "name": "python3"
  },
  "language_info": {
   "codemirror_mode": {
    "name": "ipython",
    "version": 3
   },
   "file_extension": ".py",
   "mimetype": "text/x-python",
   "name": "python",
   "nbconvert_exporter": "python",
   "pygments_lexer": "ipython3",
   "version": "3.7.3"
  }
 },
 "nbformat": 4,
 "nbformat_minor": 2
}
